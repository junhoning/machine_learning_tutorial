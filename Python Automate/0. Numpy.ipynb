{
 "cells": [
  {
   "cell_type": "code",
   "execution_count": 1,
   "metadata": {
    "id": "YS7Pxkgf_VTr"
   },
   "outputs": [],
   "source": [
    "import numpy as np"
   ]
  },
  {
   "cell_type": "code",
   "execution_count": 2,
   "metadata": {
    "id": "rBCCrbuK_VTx",
    "outputId": "56b8b897-7309-4105-de38-da227c26d08e"
   },
   "outputs": [
    {
     "data": {
      "text/plain": [
       "array([1, 2, 3])"
      ]
     },
     "execution_count": 2,
     "metadata": {},
     "output_type": "execute_result"
    }
   ],
   "source": [
    "arr = np.array([1, 2, 3])\n",
    "arr"
   ]
  },
  {
   "cell_type": "code",
   "execution_count": 3,
   "metadata": {
    "id": "Zrtqmi29_VT3",
    "outputId": "265464da-983f-465d-b9c6-71bedee3afac"
   },
   "outputs": [
    {
     "data": {
      "text/plain": [
       "dtype('int32')"
      ]
     },
     "execution_count": 3,
     "metadata": {},
     "output_type": "execute_result"
    }
   ],
   "source": [
    "arr.dtype"
   ]
  },
  {
   "cell_type": "code",
   "execution_count": 4,
   "metadata": {
    "id": "UG-r6Jmf_VT7",
    "outputId": "da7d2743-1a62-47f5-9bb1-2d0d484d6d86"
   },
   "outputs": [
    {
     "data": {
      "text/plain": [
       "dtype('float32')"
      ]
     },
     "execution_count": 4,
     "metadata": {},
     "output_type": "execute_result"
    }
   ],
   "source": [
    "arr = np.array([1, 2, 3], dtype=np.float32)\n",
    "arr.dtype"
   ]
  },
  {
   "cell_type": "code",
   "execution_count": 5,
   "metadata": {
    "id": "ZEho69AB_VT_",
    "outputId": "72920f38-0369-4c58-e069-6fe18a0d8dfe"
   },
   "outputs": [
    {
     "data": {
      "text/plain": [
       "dtype('uint8')"
      ]
     },
     "execution_count": 5,
     "metadata": {},
     "output_type": "execute_result"
    }
   ],
   "source": [
    "arr = np.array([[1, 2, 3], [1, 2, 3]], dtype=np.uint8)\n",
    "arr.dtype"
   ]
  },
  {
   "cell_type": "code",
   "execution_count": 6,
   "metadata": {
    "id": "RnzhaOTh_VUD",
    "outputId": "d9ed64da-a31e-4d57-c8fd-f0cf91c0602e"
   },
   "outputs": [
    {
     "data": {
      "text/plain": [
       "(2, 3)"
      ]
     },
     "execution_count": 6,
     "metadata": {},
     "output_type": "execute_result"
    }
   ],
   "source": [
    "arr.shape"
   ]
  },
  {
   "cell_type": "markdown",
   "metadata": {
    "id": "g9dNK3V4_VUJ"
   },
   "source": [
    "# Shape"
   ]
  },
  {
   "cell_type": "code",
   "execution_count": 7,
   "metadata": {
    "id": "3t6clo8t_VUJ",
    "outputId": "7d697da4-d8f4-4e4d-d0a5-76da9451a610"
   },
   "outputs": [
    {
     "data": {
      "text/plain": [
       "array([1, 2, 3, 1, 2, 3], dtype=uint8)"
      ]
     },
     "execution_count": 7,
     "metadata": {},
     "output_type": "execute_result"
    }
   ],
   "source": [
    "arr.reshape(6)"
   ]
  },
  {
   "cell_type": "code",
   "execution_count": 8,
   "metadata": {
    "id": "17eehvZy_VUO",
    "outputId": "12a505ce-ccbd-4de8-9ffe-25ee7ace5248"
   },
   "outputs": [
    {
     "data": {
      "text/plain": [
       "array([1, 2, 3, 1, 2, 3], dtype=uint8)"
      ]
     },
     "execution_count": 8,
     "metadata": {},
     "output_type": "execute_result"
    }
   ],
   "source": [
    "arr.reshape(-1)"
   ]
  },
  {
   "cell_type": "code",
   "execution_count": 9,
   "metadata": {
    "id": "-iYAdLR__VUU",
    "outputId": "57106311-4165-493e-d684-2b79a252ce8f"
   },
   "outputs": [
    {
     "data": {
      "text/plain": [
       "array([[1, 2],\n",
       "       [3, 1],\n",
       "       [2, 3]], dtype=uint8)"
      ]
     },
     "execution_count": 9,
     "metadata": {},
     "output_type": "execute_result"
    }
   ],
   "source": [
    "arr.reshape(3, -1)"
   ]
  },
  {
   "cell_type": "code",
   "execution_count": 10,
   "metadata": {
    "id": "sA0xLN7__VUb",
    "outputId": "f6d6f7f5-b4ce-46ea-be43-62b9eb1c0487"
   },
   "outputs": [
    {
     "data": {
      "text/plain": [
       "(6,)"
      ]
     },
     "execution_count": 10,
     "metadata": {},
     "output_type": "execute_result"
    }
   ],
   "source": [
    "new_arr = arr.reshape(-1)\n",
    "new_arr.shape"
   ]
  },
  {
   "cell_type": "code",
   "execution_count": 11,
   "metadata": {
    "id": "6zKDC4Fr_VUh",
    "outputId": "c64b36f6-2d41-489d-84d1-a71f6d561deb"
   },
   "outputs": [
    {
     "data": {
      "text/plain": [
       "array([[1, 2, 3],\n",
       "       [1, 2, 3]], dtype=uint8)"
      ]
     },
     "execution_count": 11,
     "metadata": {},
     "output_type": "execute_result"
    }
   ],
   "source": [
    "arr"
   ]
  },
  {
   "cell_type": "markdown",
   "metadata": {
    "id": "xw1iedYF_VUn"
   },
   "source": [
    "# Random"
   ]
  },
  {
   "cell_type": "code",
   "execution_count": 12,
   "metadata": {
    "id": "3c0ELbr-_VUo"
   },
   "outputs": [],
   "source": [
    "arr = np.random.randn(8, 8)"
   ]
  },
  {
   "cell_type": "code",
   "execution_count": 13,
   "metadata": {
    "id": "eN4p6Sgy_VUs",
    "outputId": "6e0404cb-eab4-43ca-dc28-b0eccbdfa5fc"
   },
   "outputs": [
    {
     "data": {
      "text/plain": [
       "(32, 2)"
      ]
     },
     "execution_count": 13,
     "metadata": {},
     "output_type": "execute_result"
    }
   ],
   "source": [
    "arr.reshape(32, -1).shape"
   ]
  },
  {
   "cell_type": "code",
   "execution_count": 14,
   "metadata": {
    "id": "u9ENSWrx_VUw",
    "outputId": "39c8f76e-5c18-4c77-a5ba-a261a6313f2e"
   },
   "outputs": [
    {
     "data": {
      "text/plain": [
       "(4, 8, 2)"
      ]
     },
     "execution_count": 14,
     "metadata": {},
     "output_type": "execute_result"
    }
   ],
   "source": [
    "arr.reshape(4, 8, -1).shape"
   ]
  },
  {
   "cell_type": "code",
   "execution_count": 15,
   "metadata": {
    "id": "gMZLP1q__VU2",
    "outputId": "45d4cdc2-dcd3-44d3-822c-9da947048497"
   },
   "outputs": [
    {
     "data": {
      "text/plain": [
       "(64,)"
      ]
     },
     "execution_count": 15,
     "metadata": {},
     "output_type": "execute_result"
    }
   ],
   "source": [
    "arr.ravel().shape"
   ]
  },
  {
   "cell_type": "code",
   "execution_count": 16,
   "metadata": {
    "id": "MaSRYZo4_VU6",
    "outputId": "cc8cf5be-f781-4068-a09b-e435f6f23bf6"
   },
   "outputs": [
    {
     "data": {
      "text/plain": [
       "2"
      ]
     },
     "execution_count": 16,
     "metadata": {},
     "output_type": "execute_result"
    }
   ],
   "source": [
    "arr.ndim"
   ]
  },
  {
   "cell_type": "code",
   "execution_count": 17,
   "metadata": {
    "id": "3k_6qdX5_VU-",
    "outputId": "00ac9dba-41db-4e2b-826b-16dc7f43bdb0"
   },
   "outputs": [
    {
     "data": {
      "text/plain": [
       "2"
      ]
     },
     "execution_count": 17,
     "metadata": {},
     "output_type": "execute_result"
    }
   ],
   "source": [
    "len(arr.shape)"
   ]
  },
  {
   "cell_type": "code",
   "execution_count": 18,
   "metadata": {
    "id": "6MMIzB7M_VVB",
    "outputId": "a42ebea0-bd44-44c5-cae4-6a54d02303e6"
   },
   "outputs": [
    {
     "data": {
      "text/plain": [
       "(1, 8, 8)"
      ]
     },
     "execution_count": 18,
     "metadata": {},
     "output_type": "execute_result"
    }
   ],
   "source": [
    "ex_arr = np.expand_dims(arr, 0)\n",
    "ex_arr.shape"
   ]
  },
  {
   "cell_type": "code",
   "execution_count": 19,
   "metadata": {
    "id": "biBM-3hC_VVF",
    "outputId": "3f5ffe1f-8788-4a75-dc69-0b0622fd3f86"
   },
   "outputs": [
    {
     "data": {
      "text/plain": [
       "(1, 1)"
      ]
     },
     "execution_count": 19,
     "metadata": {},
     "output_type": "execute_result"
    }
   ],
   "source": [
    "np.array([[3]]).shape"
   ]
  },
  {
   "cell_type": "code",
   "execution_count": 20,
   "metadata": {
    "id": "eJ99V8bF_VVJ",
    "outputId": "34dcd01b-a5e9-451c-e0de-7e30393d83ac"
   },
   "outputs": [
    {
     "data": {
      "text/plain": [
       "(1, 8, 8, 1)"
      ]
     },
     "execution_count": 20,
     "metadata": {},
     "output_type": "execute_result"
    }
   ],
   "source": [
    "ex_arr = np.expand_dims(ex_arr, -1)\n",
    "ex_arr.shape"
   ]
  },
  {
   "cell_type": "markdown",
   "metadata": {
    "id": "b9z36svY_VVO"
   },
   "source": [
    "# Zeros & Ones"
   ]
  },
  {
   "cell_type": "code",
   "execution_count": 21,
   "metadata": {
    "id": "uxuNqw-__VVP",
    "outputId": "ee6f12bc-5c86-4425-dd0b-9f99d620509d"
   },
   "outputs": [
    {
     "data": {
      "text/plain": [
       "array([[0., 0., 0.],\n",
       "       [0., 0., 0.],\n",
       "       [0., 0., 0.]])"
      ]
     },
     "execution_count": 21,
     "metadata": {},
     "output_type": "execute_result"
    }
   ],
   "source": [
    "zeros = np.zeros([3, 3])\n",
    "zeros"
   ]
  },
  {
   "cell_type": "code",
   "execution_count": 22,
   "metadata": {
    "id": "5hQDxF4L_VVV",
    "outputId": "9c128cac-ff12-4c35-be77-8245a0798bde"
   },
   "outputs": [
    {
     "data": {
      "text/plain": [
       "array([0.])"
      ]
     },
     "execution_count": 22,
     "metadata": {},
     "output_type": "execute_result"
    }
   ],
   "source": [
    "np.zeros(1)"
   ]
  },
  {
   "cell_type": "code",
   "execution_count": 23,
   "metadata": {
    "id": "j-U3wF6R_VVY",
    "outputId": "853e519b-1aa3-4d90-d9ca-ae992987befd"
   },
   "outputs": [
    {
     "data": {
      "text/plain": [
       "array([[5., 5., 5., 5., 5.],\n",
       "       [5., 5., 5., 5., 5.],\n",
       "       [5., 5., 5., 5., 5.],\n",
       "       [5., 5., 5., 5., 5.],\n",
       "       [5., 5., 5., 5., 5.],\n",
       "       [5., 5., 5., 5., 5.],\n",
       "       [5., 5., 5., 5., 5.],\n",
       "       [5., 5., 5., 5., 5.],\n",
       "       [5., 5., 5., 5., 5.],\n",
       "       [5., 5., 5., 5., 5.]])"
      ]
     },
     "execution_count": 23,
     "metadata": {},
     "output_type": "execute_result"
    }
   ],
   "source": [
    "ones = np.ones([10, 5])\n",
    "ones * 5"
   ]
  },
  {
   "cell_type": "code",
   "execution_count": 24,
   "metadata": {
    "id": "M46O5kBC_VVc",
    "outputId": "be04d138-1c76-4a94-aaa7-31079e6b8885"
   },
   "outputs": [
    {
     "data": {
      "text/plain": [
       "array([0, 1, 2, 3, 4, 5, 6, 7, 8])"
      ]
     },
     "execution_count": 24,
     "metadata": {},
     "output_type": "execute_result"
    }
   ],
   "source": [
    "np.arange(9)"
   ]
  },
  {
   "cell_type": "code",
   "execution_count": 25,
   "metadata": {
    "id": "dvBeNfeG_VVg",
    "outputId": "6d45eb1d-9101-4db2-960e-6717f7e3a620"
   },
   "outputs": [
    {
     "data": {
      "text/plain": [
       "[0, 1, 2, 3, 4, 5, 6, 7, 8]"
      ]
     },
     "execution_count": 25,
     "metadata": {},
     "output_type": "execute_result"
    }
   ],
   "source": [
    "list(range(9))"
   ]
  },
  {
   "cell_type": "code",
   "execution_count": 26,
   "metadata": {
    "id": "huOv4zee_VVk",
    "outputId": "6e7e6c66-af60-4f9f-903c-add2ad626384"
   },
   "outputs": [
    {
     "data": {
      "text/plain": [
       "array(['a', 'v', '1', '2'], dtype='<U11')"
      ]
     },
     "execution_count": 26,
     "metadata": {},
     "output_type": "execute_result"
    }
   ],
   "source": [
    "np.array(['a', 'v', 1, 2])"
   ]
  },
  {
   "cell_type": "markdown",
   "metadata": {
    "id": "L0pEzjFI_VVn"
   },
   "source": [
    "# index"
   ]
  },
  {
   "cell_type": "code",
   "execution_count": 27,
   "metadata": {
    "id": "DfnG1XCa_VVo",
    "outputId": "6069f25d-5a1f-4e75-dda9-05540e0d572e"
   },
   "outputs": [
    {
     "data": {
      "text/plain": [
       "(8, 8)"
      ]
     },
     "execution_count": 27,
     "metadata": {},
     "output_type": "execute_result"
    }
   ],
   "source": [
    "arr.shape"
   ]
  },
  {
   "cell_type": "code",
   "execution_count": 28,
   "metadata": {
    "id": "OhO_Um2F_VVr",
    "outputId": "85ca720b-32ca-45d7-de9a-eede095333dd"
   },
   "outputs": [
    {
     "data": {
      "text/plain": [
       "array([[-1.51787703e-01,  1.38630395e+00, -1.05002343e+00,\n",
       "         4.11138024e-01,  3.37490989e-01,  4.60801359e-01,\n",
       "         3.67695882e-01,  1.15076002e+00],\n",
       "       [ 1.09511129e+00, -5.27404078e-02,  5.02659479e-02,\n",
       "         1.74352308e-01, -1.41730550e+00, -1.02653627e-01,\n",
       "         1.30336759e+00,  5.47435847e-01],\n",
       "       [-3.73592507e-02, -7.82734042e-01, -2.81135119e-02,\n",
       "         1.14718050e+00,  1.08125394e+00,  1.27239972e-01,\n",
       "        -1.28306766e-01, -2.87252744e-01],\n",
       "       [-1.11765887e+00, -1.60650573e-01,  6.77260691e-01,\n",
       "        -1.22223583e+00, -1.45960020e+00,  7.43730350e-01,\n",
       "         1.52288821e-01, -9.18158755e-01],\n",
       "       [ 1.29748201e-01, -6.40083438e-01,  1.13664716e+00,\n",
       "         3.61607873e-01, -9.92335359e-01, -6.79192330e-01,\n",
       "         1.65078428e-01,  7.87123986e-01],\n",
       "       [-1.18481022e-01, -1.99084288e+00, -5.89080312e-01,\n",
       "        -1.77532225e+00,  1.64719563e+00,  1.10720802e-01,\n",
       "        -5.25857190e-01,  1.04413975e-01],\n",
       "       [-1.99533059e+00,  1.02683184e+00,  8.99657740e-01,\n",
       "         2.25037987e+00, -2.39645214e+00,  4.96754637e-01,\n",
       "         1.94112821e-04, -1.08660728e+00],\n",
       "       [ 1.69857118e+00,  1.64634504e+00,  1.89090004e+00,\n",
       "         9.10054305e-01, -2.53709100e-01, -1.49145531e+00,\n",
       "         5.26799996e-01, -9.17896505e-01]])"
      ]
     },
     "execution_count": 28,
     "metadata": {},
     "output_type": "execute_result"
    }
   ],
   "source": [
    "arr"
   ]
  },
  {
   "cell_type": "code",
   "execution_count": 29,
   "metadata": {
    "id": "va9tZRSc_VVv",
    "outputId": "6610ef54-f6e0-4402-9bf1-10a19a254131"
   },
   "outputs": [
    {
     "data": {
      "text/plain": [
       "array([[ 0.33749099,  0.46080136,  0.36769588,  1.15076002],\n",
       "       [-1.4173055 , -0.10265363,  1.30336759,  0.54743585],\n",
       "       [ 1.08125394,  0.12723997, -0.12830677, -0.28725274],\n",
       "       [-1.4596002 ,  0.74373035,  0.15228882, -0.91815875]])"
      ]
     },
     "execution_count": 29,
     "metadata": {},
     "output_type": "execute_result"
    }
   ],
   "source": [
    "arr[:4, 4:]"
   ]
  },
  {
   "cell_type": "code",
   "execution_count": 30,
   "metadata": {
    "id": "T8YJ4Ec6_VVy",
    "outputId": "84d93861-109f-460a-b561-8b62d362f15c"
   },
   "outputs": [
    {
     "data": {
      "text/plain": [
       "1.1507600174345425"
      ]
     },
     "execution_count": 30,
     "metadata": {},
     "output_type": "execute_result"
    }
   ],
   "source": [
    "arr[0, -1]"
   ]
  },
  {
   "cell_type": "code",
   "execution_count": 31,
   "metadata": {
    "id": "4Gd_jN9N_VV5",
    "outputId": "bed757e3-dc3d-4d4e-80ff-b6878c778a88"
   },
   "outputs": [
    {
     "data": {
      "text/plain": [
       "1.1507600174345425"
      ]
     },
     "execution_count": 31,
     "metadata": {},
     "output_type": "execute_result"
    }
   ],
   "source": [
    "arr[0][-1]"
   ]
  },
  {
   "cell_type": "code",
   "execution_count": 32,
   "metadata": {
    "id": "KTkAU5lG_VV9",
    "outputId": "35f1c79c-59d1-4760-9ff9-308c873bbd09"
   },
   "outputs": [
    {
     "data": {
      "text/plain": [
       "array([[False,  True, False,  True,  True,  True,  True,  True],\n",
       "       [ True, False,  True,  True, False, False,  True,  True],\n",
       "       [False, False, False,  True,  True,  True, False, False],\n",
       "       [False, False,  True, False, False,  True,  True, False],\n",
       "       [ True, False,  True,  True, False, False,  True,  True],\n",
       "       [False, False, False, False,  True,  True, False,  True],\n",
       "       [False,  True,  True,  True, False,  True,  True, False],\n",
       "       [ True,  True,  True,  True, False, False,  True, False]])"
      ]
     },
     "execution_count": 32,
     "metadata": {},
     "output_type": "execute_result"
    }
   ],
   "source": [
    "arr > 0"
   ]
  },
  {
   "cell_type": "code",
   "execution_count": 33,
   "metadata": {
    "id": "ZkvvI_UQ_VWE"
   },
   "outputs": [],
   "source": [
    "arr[arr > 0] = 1"
   ]
  },
  {
   "cell_type": "code",
   "execution_count": 34,
   "metadata": {
    "id": "lDUnFzaq_VWI",
    "outputId": "e951a85e-7350-4977-a81b-0441d3db75d6"
   },
   "outputs": [
    {
     "data": {
      "text/plain": [
       "array([[-0.1517877 ,  1.        , -1.05002343,  1.        ,  1.        ,\n",
       "         1.        ,  1.        ,  1.        ],\n",
       "       [ 1.        , -0.05274041,  1.        ,  1.        , -1.4173055 ,\n",
       "        -0.10265363,  1.        ,  1.        ],\n",
       "       [-0.03735925, -0.78273404, -0.02811351,  1.        ,  1.        ,\n",
       "         1.        , -0.12830677, -0.28725274],\n",
       "       [-1.11765887, -0.16065057,  1.        , -1.22223583, -1.4596002 ,\n",
       "         1.        ,  1.        , -0.91815875],\n",
       "       [ 1.        , -0.64008344,  1.        ,  1.        , -0.99233536,\n",
       "        -0.67919233,  1.        ,  1.        ],\n",
       "       [-0.11848102, -1.99084288, -0.58908031, -1.77532225,  1.        ,\n",
       "         1.        , -0.52585719,  1.        ],\n",
       "       [-1.99533059,  1.        ,  1.        ,  1.        , -2.39645214,\n",
       "         1.        ,  1.        , -1.08660728],\n",
       "       [ 1.        ,  1.        ,  1.        ,  1.        , -0.2537091 ,\n",
       "        -1.49145531,  1.        , -0.9178965 ]])"
      ]
     },
     "execution_count": 34,
     "metadata": {},
     "output_type": "execute_result"
    }
   ],
   "source": [
    "arr"
   ]
  },
  {
   "cell_type": "markdown",
   "metadata": {
    "id": "bssZ5WAl_VWO"
   },
   "source": [
    "# Broadcast"
   ]
  },
  {
   "cell_type": "code",
   "execution_count": 35,
   "metadata": {
    "colab": {
     "base_uri": "https://localhost:8080/",
     "height": 181
    },
    "executionInfo": {
     "elapsed": 2480,
     "status": "error",
     "timestamp": 1604992382614,
     "user": {
      "displayName": "Joon Ho Lee",
      "photoUrl": "https://lh3.googleusercontent.com/a-/AOh14GgJyxIJBzSIhKvgQdVBoQqmgi4tg-RW4dQIWIbYOw=s64",
      "userId": "08323983199040771696"
     },
     "user_tz": -540
    },
    "id": "U8QWzNWg_VWP",
    "outputId": "d0bbca79-24ad-4b1f-e825-e5b5812873d4"
   },
   "outputs": [
    {
     "data": {
      "text/plain": [
       "array([[0, 1, 2],\n",
       "       [3, 4, 5],\n",
       "       [6, 7, 8]])"
      ]
     },
     "execution_count": 35,
     "metadata": {},
     "output_type": "execute_result"
    }
   ],
   "source": [
    "arr = np.arange(9).reshape(3, 3)\n",
    "arr"
   ]
  },
  {
   "cell_type": "code",
   "execution_count": 36,
   "metadata": {
    "id": "rv-Zh1r3_VWW",
    "outputId": "4a9f6de9-6f68-485f-9dd9-d2bf0bdda86a"
   },
   "outputs": [
    {
     "data": {
      "text/plain": [
       "array([[ 3,  4,  5],\n",
       "       [ 6,  7,  8],\n",
       "       [ 9, 10, 11]])"
      ]
     },
     "execution_count": 36,
     "metadata": {},
     "output_type": "execute_result"
    }
   ],
   "source": [
    "arr + 3"
   ]
  },
  {
   "cell_type": "code",
   "execution_count": 37,
   "metadata": {
    "id": "j4dorbqM_VWZ",
    "outputId": "30b998f1-4818-4638-a8c2-c76968285553"
   },
   "outputs": [
    {
     "data": {
      "text/plain": [
       "array([[ 0,  3,  6],\n",
       "       [ 9, 12, 15],\n",
       "       [18, 21, 24]])"
      ]
     },
     "execution_count": 37,
     "metadata": {},
     "output_type": "execute_result"
    }
   ],
   "source": [
    "arr * 3"
   ]
  },
  {
   "cell_type": "code",
   "execution_count": 38,
   "metadata": {
    "id": "CMsVTxiV_VWc",
    "outputId": "a6be71c8-c15c-445e-8ae5-00163d97380b"
   },
   "outputs": [
    {
     "data": {
      "text/plain": [
       "array([[ 1,  3,  5],\n",
       "       [ 4,  6,  8],\n",
       "       [ 7,  9, 11]])"
      ]
     },
     "execution_count": 38,
     "metadata": {},
     "output_type": "execute_result"
    }
   ],
   "source": [
    "arr + np.array([1, 2, 3])"
   ]
  },
  {
   "cell_type": "markdown",
   "metadata": {
    "id": "eWvXVLIe_VWf"
   },
   "source": [
    "# Math"
   ]
  },
  {
   "cell_type": "code",
   "execution_count": 39,
   "metadata": {
    "id": "9YEm95OK_VWg",
    "outputId": "fa847071-d018-420d-bb47-6f75b0c059b6"
   },
   "outputs": [
    {
     "data": {
      "text/plain": [
       "array([[ 0,  2,  4],\n",
       "       [ 6,  8, 10],\n",
       "       [12, 14, 16]])"
      ]
     },
     "execution_count": 39,
     "metadata": {},
     "output_type": "execute_result"
    }
   ],
   "source": [
    "arr + arr"
   ]
  },
  {
   "cell_type": "code",
   "execution_count": 40,
   "metadata": {
    "id": "5rwZ_6qL_VWk",
    "outputId": "d937224f-d54e-407f-9c06-597ab3189cc9"
   },
   "outputs": [
    {
     "data": {
      "text/plain": [
       "array([[ 0,  1,  4],\n",
       "       [ 9, 16, 25],\n",
       "       [36, 49, 64]])"
      ]
     },
     "execution_count": 40,
     "metadata": {},
     "output_type": "execute_result"
    }
   ],
   "source": [
    "arr * arr"
   ]
  },
  {
   "cell_type": "code",
   "execution_count": 41,
   "metadata": {
    "id": "OkiAFphp_VWs",
    "outputId": "d4de8ca0-c109-4167-990f-d77195554d43"
   },
   "outputs": [
    {
     "data": {
      "text/plain": [
       "array([[ 0,  2,  4],\n",
       "       [ 6,  8, 10],\n",
       "       [12, 14, 16]])"
      ]
     },
     "execution_count": 41,
     "metadata": {},
     "output_type": "execute_result"
    }
   ],
   "source": [
    "np.add(arr, arr)"
   ]
  },
  {
   "cell_type": "code",
   "execution_count": 42,
   "metadata": {
    "id": "YlgJAC7f_VWw",
    "outputId": "a1c8b588-7df5-4aca-bacb-4392bf35bb69"
   },
   "outputs": [
    {
     "data": {
      "text/plain": [
       "array([[ 0,  3,  6],\n",
       "       [ 9, 12, 15],\n",
       "       [18, 21, 24]])"
      ]
     },
     "execution_count": 42,
     "metadata": {},
     "output_type": "execute_result"
    }
   ],
   "source": [
    "np.multiply(arr, 3)"
   ]
  },
  {
   "cell_type": "code",
   "execution_count": 43,
   "metadata": {
    "id": "JoPYyhYG_VW0",
    "outputId": "31bb5801-fcc6-4343-d022-a53212e90bc4"
   },
   "outputs": [
    {
     "data": {
      "text/plain": [
       "36"
      ]
     },
     "execution_count": 43,
     "metadata": {},
     "output_type": "execute_result"
    }
   ],
   "source": [
    "np.sum(arr)"
   ]
  },
  {
   "cell_type": "code",
   "execution_count": 44,
   "metadata": {
    "id": "HpFjHMgS_VW6",
    "outputId": "e7f8f055-ca2f-48e4-ac49-250d32836a0c"
   },
   "outputs": [
    {
     "data": {
      "text/plain": [
       "array([[0, 1, 2],\n",
       "       [3, 4, 5],\n",
       "       [6, 7, 8]])"
      ]
     },
     "execution_count": 44,
     "metadata": {},
     "output_type": "execute_result"
    }
   ],
   "source": [
    "arr"
   ]
  },
  {
   "cell_type": "code",
   "execution_count": 45,
   "metadata": {
    "id": "5UVp1z0Y_VW9",
    "outputId": "8112cc08-cbdb-4b5d-eac0-49c74901525b"
   },
   "outputs": [
    {
     "data": {
      "text/plain": [
       "(3, 3)"
      ]
     },
     "execution_count": 45,
     "metadata": {},
     "output_type": "execute_result"
    }
   ],
   "source": [
    "arr.shape"
   ]
  },
  {
   "cell_type": "code",
   "execution_count": 46,
   "metadata": {
    "id": "_tSciXAi_VXB",
    "outputId": "37e3ecf5-c836-42e5-e875-ac76344679c3"
   },
   "outputs": [
    {
     "data": {
      "text/plain": [
       "array([ 9, 12, 15])"
      ]
     },
     "execution_count": 46,
     "metadata": {},
     "output_type": "execute_result"
    }
   ],
   "source": [
    "np.sum(arr, axis=0)"
   ]
  },
  {
   "cell_type": "code",
   "execution_count": 47,
   "metadata": {
    "id": "lECnUX-__VXF",
    "outputId": "b57d417c-498a-49ad-db53-f69c2e6f6770"
   },
   "outputs": [
    {
     "data": {
      "text/plain": [
       "8"
      ]
     },
     "execution_count": 47,
     "metadata": {},
     "output_type": "execute_result"
    }
   ],
   "source": [
    "np.max(arr)"
   ]
  },
  {
   "cell_type": "code",
   "execution_count": 48,
   "metadata": {
    "id": "ldZg3BdZ_VXI",
    "outputId": "2adf9d95-c3cc-4606-dd65-8354cd672d08"
   },
   "outputs": [
    {
     "data": {
      "text/plain": [
       "0"
      ]
     },
     "execution_count": 48,
     "metadata": {},
     "output_type": "execute_result"
    }
   ],
   "source": [
    "np.min(arr)"
   ]
  },
  {
   "cell_type": "code",
   "execution_count": 49,
   "metadata": {
    "id": "2dxVh5XR_VXM",
    "outputId": "f6e0b035-6501-4c38-d826-36d99288f797"
   },
   "outputs": [
    {
     "data": {
      "text/plain": [
       "array([1., 4., 7.])"
      ]
     },
     "execution_count": 49,
     "metadata": {},
     "output_type": "execute_result"
    }
   ],
   "source": [
    "np.mean(arr, axis=1)"
   ]
  },
  {
   "cell_type": "code",
   "execution_count": 50,
   "metadata": {
    "id": "VKhHHzdM_VXQ",
    "outputId": "26778065-8e19-421d-df57-d5dd2a36f8c9"
   },
   "outputs": [
    {
     "data": {
      "text/plain": [
       "5"
      ]
     },
     "execution_count": 50,
     "metadata": {},
     "output_type": "execute_result"
    }
   ],
   "source": [
    "np.argmax([1, 5, 3, 2, 0, 8, 3])"
   ]
  },
  {
   "cell_type": "code",
   "execution_count": 51,
   "metadata": {
    "id": "vC1t3m3B_VXV",
    "outputId": "9f338d47-e2a7-4eb7-8199-9379d6c4ed31"
   },
   "outputs": [
    {
     "data": {
      "text/plain": [
       "(array([1, 2, 3, 4, 6, 8]), array([1, 2, 2, 4, 2, 1], dtype=int64))"
      ]
     },
     "execution_count": 51,
     "metadata": {},
     "output_type": "execute_result"
    }
   ],
   "source": [
    "np.unique([2, 4, 6, 3, 4, 3, 6, 4, 4, 2, 1, 8], return_counts=True)"
   ]
  },
  {
   "cell_type": "code",
   "execution_count": 52,
   "metadata": {
    "id": "tAoBhOrw_VXf"
   },
   "outputs": [],
   "source": [
    "new_arr = arr.copy()"
   ]
  },
  {
   "cell_type": "code",
   "execution_count": 53,
   "metadata": {
    "id": "AEwZ3zQ__VXi"
   },
   "outputs": [],
   "source": [
    "new_arr[arr > 5] = 0"
   ]
  },
  {
   "cell_type": "code",
   "execution_count": 54,
   "metadata": {
    "id": "5X6u0bGt_VXl",
    "outputId": "efb6ed83-22f8-4050-a080-80d04b063315"
   },
   "outputs": [
    {
     "data": {
      "text/plain": [
       "array([[0, 1, 2],\n",
       "       [3, 4, 5],\n",
       "       [0, 0, 0]])"
      ]
     },
     "execution_count": 54,
     "metadata": {},
     "output_type": "execute_result"
    }
   ],
   "source": [
    "new_arr"
   ]
  },
  {
   "cell_type": "code",
   "execution_count": 55,
   "metadata": {
    "id": "RV7y4rx7_VXs",
    "outputId": "61735770-afa7-4b96-9e12-5d2a428f9f9e"
   },
   "outputs": [
    {
     "data": {
      "text/plain": [
       "array([[ 0.34313304,  2.33458149, -0.47199546],\n",
       "       [ 0.02683475,  0.84198395, -1.12341987],\n",
       "       [-1.93028553, -0.11173518, -0.60550856]])"
      ]
     },
     "execution_count": 55,
     "metadata": {},
     "output_type": "execute_result"
    }
   ],
   "source": [
    "rand_arr = np.random.randn(3, 3)\n",
    "rand_arr"
   ]
  },
  {
   "cell_type": "code",
   "execution_count": 56,
   "metadata": {
    "id": "iuMlW1jl_VXz",
    "outputId": "7781d92f-b113-45c6-a3fc-36c3f9206b5f"
   },
   "outputs": [
    {
     "data": {
      "text/plain": [
       "array([[ -3.83373631,   0.61851359,  -2.334437  ],\n",
       "       [ -8.51468952,   9.81300436,  -8.9372087 ],\n",
       "       [-13.19564273,  19.00749513, -15.53998039]])"
      ]
     },
     "execution_count": 56,
     "metadata": {},
     "output_type": "execute_result"
    }
   ],
   "source": [
    "np.dot(arr, rand_arr)"
   ]
  },
  {
   "cell_type": "code",
   "execution_count": 57,
   "metadata": {
    "id": "YS6UDngT_VX5",
    "outputId": "f463adad-a384-4aee-ccf6-bb61c001c631"
   },
   "outputs": [
    {
     "data": {
      "text/plain": [
       "array([[ 0.        ,  1.        ,  2.        ],\n",
       "       [ 3.        ,  4.        ,  5.        ],\n",
       "       [-1.93028553, -0.11173518, -0.60550856]])"
      ]
     },
     "execution_count": 57,
     "metadata": {},
     "output_type": "execute_result"
    }
   ],
   "source": [
    "np.where(arr > 5, rand_arr, arr)"
   ]
  },
  {
   "cell_type": "code",
   "execution_count": 58,
   "metadata": {
    "id": "kNg-cGmH_VX9",
    "outputId": "682b90c6-8b05-4253-84b5-ca15035686c8"
   },
   "outputs": [
    {
     "data": {
      "text/plain": [
       "array([[False, False, False],\n",
       "       [False, False, False],\n",
       "       [ True,  True,  True]])"
      ]
     },
     "execution_count": 58,
     "metadata": {},
     "output_type": "execute_result"
    }
   ],
   "source": [
    "arr > 5"
   ]
  },
  {
   "cell_type": "code",
   "execution_count": 59,
   "metadata": {
    "id": "XsrzxDi2_VYA",
    "outputId": "f91ad198-525e-48ab-8383-3a2607ff59ca"
   },
   "outputs": [
    {
     "data": {
      "text/plain": [
       "array([[0, 0, 0],\n",
       "       [0, 1, 1],\n",
       "       [1, 0, 0]])"
      ]
     },
     "execution_count": 59,
     "metadata": {},
     "output_type": "execute_result"
    }
   ],
   "source": [
    "np.where((arr > 3) & (arr < 7), 1, 0)"
   ]
  },
  {
   "cell_type": "code",
   "execution_count": 60,
   "metadata": {
    "id": "hdevTTif_VYE",
    "outputId": "7376df36-8189-4d8c-93fe-4de7d2b68da8"
   },
   "outputs": [
    {
     "data": {
      "text/plain": [
       "array([[False, False, False],\n",
       "       [False,  True,  True],\n",
       "       [ True, False, False]])"
      ]
     },
     "execution_count": 60,
     "metadata": {},
     "output_type": "execute_result"
    }
   ],
   "source": [
    "(arr > 3) & (arr < 7)"
   ]
  },
  {
   "cell_type": "code",
   "execution_count": 61,
   "metadata": {
    "id": "oOawZVe__VYH",
    "outputId": "5f3e0e16-d016-495c-96e3-4b0c7dfe3f77"
   },
   "outputs": [
    {
     "data": {
      "text/plain": [
       "array([[0, 1, 2],\n",
       "       [3, 4, 5],\n",
       "       [6, 7, 8]], dtype=uint8)"
      ]
     },
     "execution_count": 61,
     "metadata": {},
     "output_type": "execute_result"
    }
   ],
   "source": [
    "arr.astype(np.uint8)"
   ]
  },
  {
   "cell_type": "code",
   "execution_count": 62,
   "metadata": {
    "id": "HbHqG-i-_VYK",
    "outputId": "b010e02e-f7d6-4ebe-ee36-fd0948a98031"
   },
   "outputs": [
    {
     "data": {
      "text/plain": [
       "array([[0, 1, 2],\n",
       "       [3, 4, 5],\n",
       "       [6, 7, 8]])"
      ]
     },
     "execution_count": 62,
     "metadata": {},
     "output_type": "execute_result"
    }
   ],
   "source": [
    "arr"
   ]
  },
  {
   "cell_type": "code",
   "execution_count": 63,
   "metadata": {
    "id": "fXrwQv87_VYP",
    "outputId": "10caae21-9a69-4a6f-f566-584b74e3755b"
   },
   "outputs": [
    {
     "data": {
      "text/plain": [
       "array([[ 0.34313304,  2.33458149, -0.47199546],\n",
       "       [ 0.02683475,  0.84198395, -1.12341987],\n",
       "       [-1.93028553, -0.11173518, -0.60550856]])"
      ]
     },
     "execution_count": 63,
     "metadata": {},
     "output_type": "execute_result"
    }
   ],
   "source": [
    "rand_arr"
   ]
  },
  {
   "cell_type": "code",
   "execution_count": 64,
   "metadata": {
    "id": "XSy_V9cy_VYV",
    "outputId": "0ff71594-786b-4d42-c67d-fcd4000191fe"
   },
   "outputs": [
    {
     "data": {
      "text/plain": [
       "((3, 3), (3, 3))"
      ]
     },
     "execution_count": 64,
     "metadata": {},
     "output_type": "execute_result"
    }
   ],
   "source": [
    "arr.shape, rand_arr.shape"
   ]
  },
  {
   "cell_type": "code",
   "execution_count": 65,
   "metadata": {
    "id": "FdMMbzjQ_VYX",
    "outputId": "8a2c97f6-d4a8-4974-f9fc-49991419db8d"
   },
   "outputs": [
    {
     "data": {
      "text/plain": [
       "(3, 3, 2)"
      ]
     },
     "execution_count": 65,
     "metadata": {},
     "output_type": "execute_result"
    }
   ],
   "source": [
    "np.concatenate([np.expand_dims(arr, -1), \n",
    "                np.expand_dims(rand_arr, -1)], axis=-1).shape"
   ]
  }
 ],
 "metadata": {
  "colab": {
   "name": "[Basic] Numpy.ipynb",
   "provenance": []
  },
  "kernelspec": {
   "display_name": "Python 3 (ipykernel)",
   "language": "python",
   "name": "python3"
  },
  "language_info": {
   "codemirror_mode": {
    "name": "ipython",
    "version": 3
   },
   "file_extension": ".py",
   "mimetype": "text/x-python",
   "name": "python",
   "nbconvert_exporter": "python",
   "pygments_lexer": "ipython3",
   "version": "3.10.9"
  }
 },
 "nbformat": 4,
 "nbformat_minor": 1
}
