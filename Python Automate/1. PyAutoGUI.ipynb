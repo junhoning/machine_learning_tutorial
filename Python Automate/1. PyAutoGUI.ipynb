{
 "cells": [
  {
   "cell_type": "markdown",
   "metadata": {
    "id": "6mqyOTki8LA9"
   },
   "source": [
    "# PyAutoGUI"
   ]
  },
  {
   "cell_type": "code",
   "execution_count": 2,
   "metadata": {
    "colab": {
     "base_uri": "https://localhost:8080/",
     "height": 311
    },
    "executionInfo": {
     "elapsed": 6,
     "status": "error",
     "timestamp": 1680606390295,
     "user": {
      "displayName": "이준호",
      "userId": "11365630893761726830"
     },
     "user_tz": -540
    },
    "id": "VgDhqbrL7gJo",
    "outputId": "cc44bb8c-a357-4935-ac86-502bda01a559",
    "scrolled": true
   },
   "outputs": [],
   "source": [
    "import pyautogui"
   ]
  },
  {
   "cell_type": "code",
   "execution_count": 4,
   "metadata": {
    "id": "y7EB_EXr8XWy"
   },
   "outputs": [
    {
     "data": {
      "text/plain": [
       "(1920, 1080)"
      ]
     },
     "execution_count": 4,
     "metadata": {},
     "output_type": "execute_result"
    }
   ],
   "source": [
    "# 자동화 할 화면의 크기 구하기\n",
    "screen_width, screen_height = pyautogui.size()\n",
    "screen_width, screen_height"
   ]
  },
  {
   "cell_type": "code",
   "execution_count": 5,
   "metadata": {
    "id": "k5-cpj5X8fRF"
   },
   "outputs": [
    {
     "name": "stdout",
     "output_type": "stream",
     "text": [
      "Current mouse position: Point(x=2525, y=-605)\n"
     ]
    }
   ],
   "source": [
    "# 마우스의 현재 위치 알기 \n",
    "current_position = pyautogui.position()\n",
    "print(f\"Current mouse position: {current_position}\")"
   ]
  },
  {
   "cell_type": "code",
   "execution_count": null,
   "metadata": {},
   "outputs": [],
   "source": [
    "# jupyter로는 안 되니 cmd로 해보자 (영어, 한글)\n",
    "pyautogui.write(\"hello world\")"
   ]
  },
  {
   "cell_type": "code",
   "execution_count": 7,
   "metadata": {},
   "outputs": [],
   "source": [
    "# 한글 가능하게 하는 방법 \n",
    "import pyperclip\n",
    "\n",
    "pyperclip.copy(\"안녕하세요\") # 클립보드에 텍스트를 복사\n",
    "pyautogui.hotkey('ctrl', 'v') # 붙여넣기 "
   ]
  },
  {
   "cell_type": "markdown",
   "metadata": {},
   "source": [
    "# Mouse Control"
   ]
  },
  {
   "cell_type": "code",
   "execution_count": 9,
   "metadata": {},
   "outputs": [],
   "source": [
    "# 원하는 화면의 위치로 이동 \n",
    "x = 100\n",
    "y = 100\n",
    "duration = 1  # seconds\n",
    "pyautogui.moveTo(x, y, duration=duration)"
   ]
  },
  {
   "cell_type": "code",
   "execution_count": 11,
   "metadata": {},
   "outputs": [],
   "source": [
    "# 지금 위치을 기준으로 이동 \n",
    "dx = 50\n",
    "dy = -50\n",
    "duration = 1  # seconds\n",
    "pyautogui.move(dx, dy, duration=duration)"
   ]
  },
  {
   "cell_type": "code",
   "execution_count": 15,
   "metadata": {},
   "outputs": [],
   "source": [
    "# 원하는 위치 클릭 \n",
    "x = 800\n",
    "y = 500\n",
    "pyautogui.click(x, y)"
   ]
  },
  {
   "cell_type": "code",
   "execution_count": null,
   "metadata": {},
   "outputs": [],
   "source": [
    "# 원하는 위치 더블클릭\n",
    "x = 800\n",
    "y = 500\n",
    "pyautogui.doubleClick(x, y)"
   ]
  },
  {
   "cell_type": "code",
   "execution_count": null,
   "metadata": {},
   "outputs": [],
   "source": [
    "# 원하는 위치 우측 클릭 \n",
    "x = 100\n",
    "y = 100\n",
    "pyautogui.rightClick(x, y)"
   ]
  },
  {
   "cell_type": "code",
   "execution_count": null,
   "metadata": {},
   "outputs": [],
   "source": [
    "# 원하는 위치 중간 클릭 \n",
    "x = 100\n",
    "y = 100\n",
    "pyautogui.middleClick(x, y)"
   ]
  },
  {
   "cell_type": "code",
   "execution_count": 16,
   "metadata": {},
   "outputs": [],
   "source": [
    "# 현재 위치 기준으로 입력 위치까지 드래그 \n",
    "x = 200\n",
    "y = 200\n",
    "duration = 1  # seconds\n",
    "pyautogui.dragTo(x, y, duration=duration, button='left')"
   ]
  },
  {
   "cell_type": "code",
   "execution_count": 17,
   "metadata": {},
   "outputs": [],
   "source": [
    "# 현재 위치 기준으로 입력 거리 만큼 드래그 \n",
    "dx = 100\n",
    "dy = 100\n",
    "duration = 1  # seconds\n",
    "pyautogui.drag(dx, dy, duration=duration, button='left')"
   ]
  },
  {
   "cell_type": "code",
   "execution_count": 19,
   "metadata": {},
   "outputs": [],
   "source": [
    "# 스크롤 \n",
    "clicks = 10\n",
    "pyautogui.scroll(clicks)"
   ]
  },
  {
   "cell_type": "code",
   "execution_count": null,
   "metadata": {},
   "outputs": [],
   "source": [
    "clicks = -10\n",
    "pyautogui.scroll(clicks)"
   ]
  },
  {
   "cell_type": "code",
   "execution_count": null,
   "metadata": {},
   "outputs": [],
   "source": [
    "# 옆으로 스크롤 \n",
    "clicks = 10\n",
    "pyautogui.hscroll(clicks)"
   ]
  },
  {
   "cell_type": "markdown",
   "metadata": {},
   "source": [
    "# Keyboard Control"
   ]
  },
  {
   "cell_type": "code",
   "execution_count": null,
   "metadata": {},
   "outputs": [],
   "source": [
    "pyautogui.press('enter') "
   ]
  },
  {
   "cell_type": "code",
   "execution_count": 21,
   "metadata": {},
   "outputs": [],
   "source": [
    "pyautogui.keyDown('shift')\n",
    "pyautogui.press('a')  # Types an uppercase 'A'\n",
    "pyautogui.keyUp('shift')"
   ]
  },
  {
   "cell_type": "code",
   "execution_count": 22,
   "metadata": {},
   "outputs": [],
   "source": [
    "text = \"Hello, World!\"\n",
    "pyautogui.typewrite(text)"
   ]
  },
  {
   "cell_type": "code",
   "execution_count": null,
   "metadata": {},
   "outputs": [],
   "source": [
    "# 문자열 작성시 글자간 delay 주기 \n",
    "text = \"Hello, World!\"\n",
    "interval = 0.1  # seconds\n",
    "pyautogui.typewrite(text, interval=interval)"
   ]
  },
  {
   "cell_type": "code",
   "execution_count": null,
   "metadata": {},
   "outputs": [],
   "source": [
    "# hotkey 입력 \n",
    "pyautogui.hotkey('ctrl', 'c')"
   ]
  },
  {
   "cell_type": "code",
   "execution_count": null,
   "metadata": {},
   "outputs": [],
   "source": [
    "pyautogui.hotkey('ctrl', 'v')"
   ]
  },
  {
   "cell_type": "code",
   "execution_count": null,
   "metadata": {},
   "outputs": [],
   "source": [
    "pyautogui.hotkey('ctrl', 's')"
   ]
  },
  {
   "cell_type": "code",
   "execution_count": null,
   "metadata": {},
   "outputs": [],
   "source": [
    "pyautogui.press('printscreen')"
   ]
  },
  {
   "cell_type": "markdown",
   "metadata": {},
   "source": [
    "# Message Box Function 활용 하기 "
   ]
  },
  {
   "cell_type": "code",
   "execution_count": 23,
   "metadata": {},
   "outputs": [
    {
     "name": "stdout",
     "output_type": "stream",
     "text": [
      "Requirement already satisfied: pymsgbox in c:\\users\\june\\anaconda3\\lib\\site-packages (1.0.9)\n"
     ]
    }
   ],
   "source": [
    "!pip install pymsgbox"
   ]
  },
  {
   "cell_type": "code",
   "execution_count": 24,
   "metadata": {},
   "outputs": [
    {
     "data": {
      "text/plain": [
       "'OK'"
      ]
     },
     "execution_count": 24,
     "metadata": {},
     "output_type": "execute_result"
    }
   ],
   "source": [
    "message = \"This is an alert message.\"\n",
    "title = \"Alert Box\"\n",
    "pyautogui.alert(text=message, title=title)"
   ]
  },
  {
   "cell_type": "code",
   "execution_count": 25,
   "metadata": {},
   "outputs": [
    {
     "name": "stdout",
     "output_type": "stream",
     "text": [
      "User clicked OK.\n"
     ]
    }
   ],
   "source": [
    "message = \"Do you want to continue?\"\n",
    "title = \"Confirm Box\"\n",
    "result = pyautogui.confirm(text=message, title=title)\n",
    "\n",
    "if result == 'OK':\n",
    "    print(\"User clicked OK.\")\n",
    "else:\n",
    "    print(\"User clicked Cancel.\")"
   ]
  },
  {
   "cell_type": "code",
   "execution_count": 26,
   "metadata": {},
   "outputs": [
    {
     "name": "stdout",
     "output_type": "stream",
     "text": [
      "User entered: JOON HO LEE\n"
     ]
    }
   ],
   "source": [
    "message = \"Please enter your name:\"\n",
    "title = \"Prompt Box\"\n",
    "name = pyautogui.prompt(text=message, title=title)\n",
    "\n",
    "if name is not None:\n",
    "    print(f\"User entered: {name}\")\n",
    "else:\n",
    "    print(\"User clicked Cancel.\")"
   ]
  },
  {
   "cell_type": "code",
   "execution_count": 27,
   "metadata": {},
   "outputs": [
    {
     "name": "stdout",
     "output_type": "stream",
     "text": [
      "User clicked Cancel.\n"
     ]
    }
   ],
   "source": [
    "message = \"Please enter your password:\"\n",
    "title = \"Password Box\"\n",
    "password = pyautogui.password(text=message, title=title)\n",
    "\n",
    "if password is not None:\n",
    "    print(\"User entered a password.\")\n",
    "else:\n",
    "    print(\"User clicked Cancel.\")"
   ]
  }
 ],
 "metadata": {
  "colab": {
   "authorship_tag": "ABX9TyPnsTr0SCeXWqFMrORSiE9x",
   "provenance": []
  },
  "kernelspec": {
   "display_name": "Python 3 (ipykernel)",
   "language": "python",
   "name": "python3"
  },
  "language_info": {
   "codemirror_mode": {
    "name": "ipython",
    "version": 3
   },
   "file_extension": ".py",
   "mimetype": "text/x-python",
   "name": "python",
   "nbconvert_exporter": "python",
   "pygments_lexer": "ipython3",
   "version": "3.10.9"
  }
 },
 "nbformat": 4,
 "nbformat_minor": 1
}
