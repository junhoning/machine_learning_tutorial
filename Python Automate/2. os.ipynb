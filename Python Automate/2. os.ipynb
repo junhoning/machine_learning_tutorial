{
 "cells": [
  {
   "cell_type": "markdown",
   "metadata": {
    "id": "goe3yFa4J_M9"
   },
   "source": [
    "# OS 시작 \n"
   ]
  },
  {
   "cell_type": "markdown",
   "metadata": {
    "id": "wuLTtYtWYAAL"
   },
   "source": [
    "## os basic"
   ]
  },
  {
   "cell_type": "markdown",
   "metadata": {
    "id": "aeSmMe1FKJvZ"
   },
   "source": [
    "os로 작업 위치를 확인하고 변경하는 과정을 갖습니다. "
   ]
  },
  {
   "cell_type": "code",
   "execution_count": null,
   "metadata": {
    "id": "yl0ohXOMKC0w"
   },
   "outputs": [],
   "source": [
    "import os "
   ]
  },
  {
   "cell_type": "code",
   "execution_count": null,
   "metadata": {
    "id": "a0P7EZRrJcRN"
   },
   "outputs": [],
   "source": [
    "# 현재 작업 위치 파악 \n",
    "cur_dir = os.getcwd() "
   ]
  },
  {
   "cell_type": "code",
   "execution_count": null,
   "metadata": {
    "id": "_4R7TO5fKrvC"
   },
   "outputs": [],
   "source": [
    "# 작업 위치 변경 \n",
    "os.chdir(\"..\") \n",
    "new_cur_dir = os.getcwd()"
   ]
  },
  {
   "cell_type": "code",
   "execution_count": null,
   "metadata": {
    "id": "jI0SGd6PKs8_"
   },
   "outputs": [],
   "source": [
    "# 현재 위치로 돌려놓기 \n",
    "# 또는 원하는 위치로 작업 환경을 옮길 수 있음 \n",
    "os.chdir(cur_dir)"
   ]
  },
  {
   "cell_type": "markdown",
   "metadata": {
    "id": "0HIeIyOfK8KP"
   },
   "source": [
    "폴더를 생성, 이름 변경, 또는 삭제 합니다. \n",
    "\n",
    "tip : space는 가급적이면 안 만드는 것이 좋다 "
   ]
  },
  {
   "cell_type": "code",
   "execution_count": 58,
   "metadata": {
    "executionInfo": {
     "elapsed": 14,
     "status": "ok",
     "timestamp": 1680587946847,
     "user": {
      "displayName": "이준호",
      "userId": "11365630893761726830"
     },
     "user_tz": -540
    },
    "id": "CxoWGRiSKySd"
   },
   "outputs": [],
   "source": [
    "# 새로운 폴더 생성 \n",
    "new_dir = 'new_folder'\n",
    "os.mkdir(new_dir)"
   ]
  },
  {
   "cell_type": "code",
   "execution_count": null,
   "metadata": {},
   "outputs": [],
   "source": [
    "os.mkdir(new_dir)  # 같은 경로에 또 다른 폴더 만들기 \n",
    "\n",
    "# 해결 방법 \n",
    "if not os.path.exists(new_dir):\n",
    "    os.mkdir(new_dir)"
   ]
  },
  {
   "cell_type": "code",
   "execution_count": 59,
   "metadata": {
    "executionInfo": {
     "elapsed": 10,
     "status": "ok",
     "timestamp": 1680587975437,
     "user": {
      "displayName": "이준호",
      "userId": "11365630893761726830"
     },
     "user_tz": -540
    },
    "id": "gfhtsYFC2Pc2"
   },
   "outputs": [],
   "source": [
    "# makedirs는 여러 depth가 있는 폴더도 생성 \n",
    "os.makedirs('content/new_folder')"
   ]
  },
  {
   "cell_type": "code",
   "execution_count": 60,
   "metadata": {
    "executionInfo": {
     "elapsed": 8,
     "status": "ok",
     "timestamp": 1680587985576,
     "user": {
      "displayName": "이준호",
      "userId": "11365630893761726830"
     },
     "user_tz": -540
    },
    "id": "RVqLQDdX2WY9"
   },
   "outputs": [],
   "source": [
    "# exist_ok는 중복된 폴더가 있더라도 무시 해줌 \n",
    "os.makedirs('content/new_folder', exist_ok=True)"
   ]
  },
  {
   "cell_type": "code",
   "execution_count": null,
   "metadata": {
    "colab": {
     "base_uri": "https://localhost:8080/"
    },
    "executionInfo": {
     "elapsed": 8,
     "status": "ok",
     "timestamp": 1680576862382,
     "user": {
      "displayName": "이준호",
      "userId": "11365630893761726830"
     },
     "user_tz": -540
    },
    "id": "UsdoymIBLSq3",
    "outputId": "239027f0-aa67-4bed-86af-f196c8bec3e2"
   },
   "outputs": [
    {
     "data": {
      "text/plain": [
       "['.config', 'new folder 2', 'new folder', 'sample_data']"
      ]
     },
     "execution_count": 14,
     "metadata": {},
     "output_type": "execute_result"
    }
   ],
   "source": [
    "# 현재 위치에 파일들 확인 \n",
    "os.listdir()"
   ]
  },
  {
   "cell_type": "code",
   "execution_count": null,
   "metadata": {
    "colab": {
     "base_uri": "https://localhost:8080/"
    },
    "executionInfo": {
     "elapsed": 7,
     "status": "ok",
     "timestamp": 1680576862666,
     "user": {
      "displayName": "이준호",
      "userId": "11365630893761726830"
     },
     "user_tz": -540
    },
    "id": "uquThnJtLl1O",
    "outputId": "0472be01-97bc-47ec-8642-c4fc2c58f4d5"
   },
   "outputs": [
    {
     "data": {
      "text/plain": [
       "['.config', 'new folder 2', 'sample_data']"
      ]
     },
     "execution_count": 15,
     "metadata": {},
     "output_type": "execute_result"
    }
   ],
   "source": [
    "# 생성한 폴더나 파일명 변경 \n",
    "renamed_dir = \"new_folder_2\"\n",
    "os.rename(new_dir, renamed_dir)\n",
    "\n",
    "os.listdir()"
   ]
  },
  {
   "cell_type": "code",
   "execution_count": null,
   "metadata": {
    "id": "gOqi0UDGL4j3"
   },
   "outputs": [],
   "source": [
    "# 생성한 폴더 삭제 \n",
    "os.rmdir(renamed_dir)"
   ]
  },
  {
   "cell_type": "code",
   "execution_count": null,
   "metadata": {
    "colab": {
     "base_uri": "https://localhost:8080/"
    },
    "executionInfo": {
     "elapsed": 9,
     "status": "ok",
     "timestamp": 1680576895575,
     "user": {
      "displayName": "이준호",
      "userId": "11365630893761726830"
     },
     "user_tz": -540
    },
    "id": "gm73kOASMCUq",
    "outputId": "26f05ffa-6bf8-4eee-fafd-c076ec68d0f6"
   },
   "outputs": [
    {
     "data": {
      "text/plain": [
       "['.config', 'sample_data']"
      ]
     },
     "execution_count": 17,
     "metadata": {},
     "output_type": "execute_result"
    }
   ],
   "source": [
    "os.listdir()"
   ]
  },
  {
   "cell_type": "markdown",
   "metadata": {
    "id": "jAXtTpZvMH5M"
   },
   "source": [
    "파일을 생성하고 수정 및 관리 합니다 "
   ]
  },
  {
   "cell_type": "code",
   "execution_count": null,
   "metadata": {
    "colab": {
     "base_uri": "https://localhost:8080/"
    },
    "executionInfo": {
     "elapsed": 304,
     "status": "ok",
     "timestamp": 1680581832234,
     "user": {
      "displayName": "이준호",
      "userId": "11365630893761726830"
     },
     "user_tz": -540
    },
    "id": "SMTdksj-MTIP",
    "outputId": "5f02f39a-3817-45c2-c5b1-7bf5e7d2e0ef"
   },
   "outputs": [
    {
     "data": {
      "text/plain": [
       "['.config', 'sample.txt', 'sample_data']"
      ]
     },
     "execution_count": 47,
     "metadata": {},
     "output_type": "execute_result"
    }
   ],
   "source": [
    "# Text 파일 생성 \n",
    "file_name = 'sample.txt'\n",
    "with open(file_name, 'w') as f:\n",
    "    f.write('first line')\n",
    "\n",
    "os.listdir()"
   ]
  },
  {
   "cell_type": "code",
   "execution_count": null,
   "metadata": {
    "colab": {
     "base_uri": "https://localhost:8080/"
    },
    "executionInfo": {
     "elapsed": 6,
     "status": "ok",
     "timestamp": 1680581832717,
     "user": {
      "displayName": "이준호",
      "userId": "11365630893761726830"
     },
     "user_tz": -540
    },
    "id": "7kipmqfyVkIm",
    "outputId": "f3bed706-dff1-4068-e352-66d790f82aa8"
   },
   "outputs": [
    {
     "data": {
      "text/plain": [
       "['.config', 'renamed.txt', 'sample_data']"
      ]
     },
     "execution_count": 48,
     "metadata": {},
     "output_type": "execute_result"
    }
   ],
   "source": [
    "# 파일명 수정 \n",
    "renamed_file = 'renamed.txt'\n",
    "\n",
    "os.rename(file_name, renamed_file)\n",
    "\n",
    "os.listdir()"
   ]
  },
  {
   "cell_type": "code",
   "execution_count": null,
   "metadata": {
    "colab": {
     "base_uri": "https://localhost:8080/"
    },
    "executionInfo": {
     "elapsed": 7,
     "status": "ok",
     "timestamp": 1680581834003,
     "user": {
      "displayName": "이준호",
      "userId": "11365630893761726830"
     },
     "user_tz": -540
    },
    "id": "YHPx4Q2KWbvi",
    "outputId": "0cdfab4b-d9b6-4cb6-e4a2-4e9c7f4b22e6"
   },
   "outputs": [
    {
     "data": {
      "text/plain": [
       "['.config', 'sample_data']"
      ]
     },
     "execution_count": 49,
     "metadata": {},
     "output_type": "execute_result"
    }
   ],
   "source": [
    "os.remove(renamed_file)\n",
    "os.listdir()"
   ]
  },
  {
   "cell_type": "code",
   "execution_count": null,
   "metadata": {
    "colab": {
     "base_uri": "https://localhost:8080/"
    },
    "executionInfo": {
     "elapsed": 293,
     "status": "ok",
     "timestamp": 1680581855668,
     "user": {
      "displayName": "이준호",
      "userId": "11365630893761726830"
     },
     "user_tz": -540
    },
    "id": "ukF9fSSFe7Fz",
    "outputId": "629a052d-f183-4de7-e7ae-e04664cafa74"
   },
   "outputs": [
    {
     "data": {
      "text/plain": [
       "['.config', 'sample_data']"
      ]
     },
     "execution_count": 50,
     "metadata": {},
     "output_type": "execute_result"
    }
   ],
   "source": [
    "# 파일 이동 \n",
    "os.listdir()"
   ]
  },
  {
   "cell_type": "code",
   "execution_count": null,
   "metadata": {
    "colab": {
     "base_uri": "https://localhost:8080/"
    },
    "executionInfo": {
     "elapsed": 301,
     "status": "ok",
     "timestamp": 1680581971855,
     "user": {
      "displayName": "이준호",
      "userId": "11365630893761726830"
     },
     "user_tz": -540
    },
    "id": "fFot7uMffAbU",
    "outputId": "c96aec37-727a-4e30-b2d5-4754e301a9ab"
   },
   "outputs": [
    {
     "data": {
      "text/plain": [
       "['.config', 'sample.txt', 'new folder', 'sample_data']"
      ]
     },
     "execution_count": 53,
     "metadata": {},
     "output_type": "execute_result"
    }
   ],
   "source": [
    "os.mkdir('new_folder')\n",
    "\n",
    "with open(file_name, 'w') as f:\n",
    "    f.write('first line')\n",
    "\n",
    "os.listdir()"
   ]
  },
  {
   "cell_type": "code",
   "execution_count": null,
   "metadata": {
    "colab": {
     "base_uri": "https://localhost:8080/"
    },
    "executionInfo": {
     "elapsed": 375,
     "status": "ok",
     "timestamp": 1680582011632,
     "user": {
      "displayName": "이준호",
      "userId": "11365630893761726830"
     },
     "user_tz": -540
    },
    "id": "BOWAEHa5fVis",
    "outputId": "be07a5df-3ef3-4e8e-ffb1-26e121cc8bdf"
   },
   "outputs": [
    {
     "data": {
      "text/plain": [
       "['sample.txt']"
      ]
     },
     "execution_count": 54,
     "metadata": {},
     "output_type": "execute_result"
    }
   ],
   "source": [
    "os.rename('sample.txt', 'new folder/sample.txt')\n",
    "\n",
    "os.listdir('new_folder')"
   ]
  },
  {
   "cell_type": "markdown",
   "metadata": {
    "id": "ibNVnGjDWxVW"
   },
   "source": [
    "파일 정보 확인 "
   ]
  },
  {
   "cell_type": "code",
   "execution_count": null,
   "metadata": {
    "colab": {
     "base_uri": "https://localhost:8080/"
    },
    "executionInfo": {
     "elapsed": 313,
     "status": "ok",
     "timestamp": 1680579796706,
     "user": {
      "displayName": "이준호",
      "userId": "11365630893761726830"
     },
     "user_tz": -540
    },
    "id": "94I0qNBgWg8z",
    "outputId": "ff6b2e31-4676-4ccd-d275-8452c70d1f8c"
   },
   "outputs": [
    {
     "data": {
      "text/plain": [
       "10"
      ]
     },
     "execution_count": 23,
     "metadata": {},
     "output_type": "execute_result"
    }
   ],
   "source": [
    "file_name = 'sample.txt'\n",
    "with open(file_name, 'w') as f:\n",
    "    f.write('first line')\n",
    "\n",
    "# 파일 사이즈 확인 \n",
    "file_size = os.path.getsize(file_name)\n",
    "file_size"
   ]
  },
  {
   "cell_type": "code",
   "execution_count": null,
   "metadata": {
    "colab": {
     "base_uri": "https://localhost:8080/",
     "height": 36
    },
    "executionInfo": {
     "elapsed": 313,
     "status": "ok",
     "timestamp": 1680579946060,
     "user": {
      "displayName": "이준호",
      "userId": "11365630893761726830"
     },
     "user_tz": -540
    },
    "id": "RXT9OXw4XJvh",
    "outputId": "89c1b4ea-2367-4706-d9e4-7ca5d8f0ef9f"
   },
   "outputs": [
    {
     "data": {
      "application/vnd.google.colaboratory.intrinsic+json": {
       "type": "string"
      },
      "text/plain": [
       "'23-04-04 03:43:15'"
      ]
     },
     "execution_count": 27,
     "metadata": {},
     "output_type": "execute_result"
    }
   ],
   "source": [
    "from datetime import datetime\n",
    "\n",
    "# 마지막 수정 시간 확인 \n",
    "modif_time = os.path.getmtime(file_name)\n",
    "\n",
    "# timestamp to datetime\n",
    "datetime.fromtimestamp(modif_time).strftime('%y-%m-%d %H:%M:%S')"
   ]
  },
  {
   "cell_type": "code",
   "execution_count": null,
   "metadata": {
    "id": "vUcPjursXOMu"
   },
   "outputs": [],
   "source": [
    "os.remove(file_name)"
   ]
  },
  {
   "cell_type": "markdown",
   "metadata": {
    "id": "znXnwPTyX5HJ"
   },
   "source": [
    "## os.path"
   ]
  },
  {
   "cell_type": "code",
   "execution_count": null,
   "metadata": {
    "colab": {
     "base_uri": "https://localhost:8080/"
    },
    "executionInfo": {
     "elapsed": 498,
     "status": "ok",
     "timestamp": 1680580739298,
     "user": {
      "displayName": "이준호",
      "userId": "11365630893761726830"
     },
     "user_tz": -540
    },
    "id": "5QM4A1W5ZToN",
    "outputId": "0b6b5a50-e2a2-4bea-b588-0e7ff679da92"
   },
   "outputs": [
    {
     "data": {
      "text/plain": [
       "['.config', 'sample.txt', 'sample_data']"
      ]
     },
     "execution_count": 33,
     "metadata": {},
     "output_type": "execute_result"
    }
   ],
   "source": [
    "with open(file_name, 'w') as f:\n",
    "    f.write(\"first line\")\n",
    "\n",
    "os.listdir()  "
   ]
  },
  {
   "cell_type": "code",
   "execution_count": null,
   "metadata": {
    "colab": {
     "base_uri": "https://localhost:8080/",
     "height": 36
    },
    "executionInfo": {
     "elapsed": 419,
     "status": "ok",
     "timestamp": 1680580789841,
     "user": {
      "displayName": "이준호",
      "userId": "11365630893761726830"
     },
     "user_tz": -540
    },
    "id": "tMjc9u5AazIb",
    "outputId": "bffaa027-cf53-49c6-da06-2677eee1f885"
   },
   "outputs": [
    {
     "data": {
      "application/vnd.google.colaboratory.intrinsic+json": {
       "type": "string"
      },
      "text/plain": [
       "'/content/sample.txt'"
      ]
     },
     "execution_count": 38,
     "metadata": {},
     "output_type": "execute_result"
    }
   ],
   "source": [
    "abs_path = os.path.abspath(file_name)\n",
    "abs_path"
   ]
  },
  {
   "cell_type": "code",
   "execution_count": null,
   "metadata": {
    "id": "EqgevIIAa8Lq"
   },
   "outputs": [],
   "source": [
    "os.path.basename(file_name)"
   ]
  },
  {
   "cell_type": "code",
   "execution_count": null,
   "metadata": {
    "colab": {
     "base_uri": "https://localhost:8080/",
     "height": 36
    },
    "executionInfo": {
     "elapsed": 344,
     "status": "ok",
     "timestamp": 1680580778975,
     "user": {
      "displayName": "이준호",
      "userId": "11365630893761726830"
     },
     "user_tz": -540
    },
    "id": "LHKyh1-ga1RL",
    "outputId": "e389154a-1879-47aa-d138-180296e1fd68"
   },
   "outputs": [
    {
     "data": {
      "application/vnd.google.colaboratory.intrinsic+json": {
       "type": "string"
      },
      "text/plain": [
       "'/content'"
      ]
     },
     "execution_count": 37,
     "metadata": {},
     "output_type": "execute_result"
    }
   ],
   "source": [
    "os.path.dirname(abs_path)"
   ]
  },
  {
   "cell_type": "code",
   "execution_count": null,
   "metadata": {
    "colab": {
     "base_uri": "https://localhost:8080/"
    },
    "executionInfo": {
     "elapsed": 311,
     "status": "ok",
     "timestamp": 1680580958814,
     "user": {
      "displayName": "이준호",
      "userId": "11365630893761726830"
     },
     "user_tz": -540
    },
    "id": "NyK9iJYWa5ig",
    "outputId": "c88257c2-fa4c-44da-bc2c-68e5a003f975"
   },
   "outputs": [
    {
     "data": {
      "text/plain": [
       "True"
      ]
     },
     "execution_count": 39,
     "metadata": {},
     "output_type": "execute_result"
    }
   ],
   "source": [
    "os.path.exists(file_name)"
   ]
  },
  {
   "cell_type": "code",
   "execution_count": null,
   "metadata": {
    "colab": {
     "base_uri": "https://localhost:8080/"
    },
    "executionInfo": {
     "elapsed": 434,
     "status": "ok",
     "timestamp": 1680580965750,
     "user": {
      "displayName": "이준호",
      "userId": "11365630893761726830"
     },
     "user_tz": -540
    },
    "id": "v5D8E5WFblc-",
    "outputId": "df54e075-11fb-41e0-8619-afb8c90d8c76"
   },
   "outputs": [
    {
     "data": {
      "text/plain": [
       "False"
      ]
     },
     "execution_count": 40,
     "metadata": {},
     "output_type": "execute_result"
    }
   ],
   "source": [
    "os.path.exists('new_file.txt')"
   ]
  },
  {
   "cell_type": "code",
   "execution_count": null,
   "metadata": {
    "colab": {
     "base_uri": "https://localhost:8080/"
    },
    "executionInfo": {
     "elapsed": 406,
     "status": "ok",
     "timestamp": 1680581260933,
     "user": {
      "displayName": "이준호",
      "userId": "11365630893761726830"
     },
     "user_tz": -540
    },
    "id": "hu25yO-XbnIR",
    "outputId": "abead3a9-ca2e-4f55-db2b-d0802207a418"
   },
   "outputs": [
    {
     "data": {
      "text/plain": [
       "True"
      ]
     },
     "execution_count": 41,
     "metadata": {},
     "output_type": "execute_result"
    }
   ],
   "source": [
    "os.path.isfile(file_name)"
   ]
  },
  {
   "cell_type": "code",
   "execution_count": null,
   "metadata": {
    "colab": {
     "base_uri": "https://localhost:8080/",
     "height": 36
    },
    "executionInfo": {
     "elapsed": 422,
     "status": "ok",
     "timestamp": 1680581794244,
     "user": {
      "displayName": "이준호",
      "userId": "11365630893761726830"
     },
     "user_tz": -540
    },
    "id": "v_D0xGZacvFV",
    "outputId": "70f6a9f5-9a3c-454b-ce86-baecba925bd5"
   },
   "outputs": [
    {
     "data": {
      "application/vnd.google.colaboratory.intrinsic+json": {
       "type": "string"
      },
      "text/plain": [
       "'/content'"
      ]
     },
     "execution_count": 46,
     "metadata": {},
     "output_type": "execute_result"
    }
   ],
   "source": [
    "folder_name = os.path.dirname(os.path.abspath(file_name))\n",
    "folder_name"
   ]
  },
  {
   "cell_type": "code",
   "execution_count": null,
   "metadata": {
    "colab": {
     "base_uri": "https://localhost:8080/"
    },
    "executionInfo": {
     "elapsed": 298,
     "status": "ok",
     "timestamp": 1680586396390,
     "user": {
      "displayName": "이준호",
      "userId": "11365630893761726830"
     },
     "user_tz": -540
    },
    "id": "drYIIZe_e4g1",
    "outputId": "7a91152c-a005-40f5-8979-c592032b11f0"
   },
   "outputs": [
    {
     "name": "stdout",
     "output_type": "stream",
     "text": [
      "File List : ['.config', 'sample.txt', 'new folder', 'sample_data']\n",
      "File path : /content/sample.txt\n",
      "Second File : /content/anyname.txt\n",
      "Check Files Exist : True False\n"
     ]
    }
   ],
   "source": [
    "with open(file_name, 'w') as f:\n",
    "    f.write(\"first line\")\n",
    "\n",
    "print('File List :', os.listdir())\n",
    "\n",
    "full_path = os.path.join(folder_name, file_name)\n",
    "print('File path :', full_path)\n",
    "\n",
    "any_path = os.path.join(folder_name, 'anyname.txt')\n",
    "print('Second File :', any_path)\n",
    "\n",
    "# 이름만 합치는 것이므로 있는지 없는지 확인 안 함 \n",
    "check_full = os.path.exists(full_path)\n",
    "check_any = os.path.exists(any_path)\n",
    "\n",
    "print(\"Check Files Exist :\", check_full, check_any)"
   ]
  },
  {
   "cell_type": "code",
   "execution_count": null,
   "metadata": {
    "id": "Yk0FwjgEwBM-"
   },
   "outputs": [],
   "source": []
  },
  {
   "cell_type": "markdown",
   "metadata": {
    "id": "LG-QW_RpxS5s"
   },
   "source": [
    "# Practice \n",
    "\n",
    "\n",
    "## 문제 1\n",
    "뒤에 숫자가 붙은 폴더명을 가진 20개의 폴더와 파일 하나('new_file.txt')를 생성한 후 10번째 폴더에 폴더(폴더명 : 'infolder')를 하나 더 생성 한 후 그 폴더 안에 txt 파일을 3개 만들어 주세요. \n",
    "\n",
    "폴더명은 'folder-0', 'folder-1', 'folder-2', ... \n",
    "파일명은 'file_0.txt', 'file_1.txt', 'file_2.txt'\n",
    "\n",
    "규칙 : 파일명 정의 할 때만 빼고 Absolute Path는 금지 \n",
    "예 : os.makedirs('folder-1/new_folder/')\n",
    "10번째는 os.listdir()의 순서에서 10번째로 지정 해주면 됩니다. \n",
    "\n",
    "## 문제 2\n",
    "그리고 진행 과정에 문제 없는지 검수 과정도 포함 시켜야 합니다. \n",
    "\n",
    "new_file = 'file_2.txt'\n",
    "new_folder = 'folder-5'\n",
    "를 지정 해주고,\n",
    ".replace()를 사용해서 file_2.txt를 new_file.txt로 파일명을 바꾸고, \n",
    "folder-5로 옮겨주세요.\n",
    "\n",
    "규칙 : 파일명 정의 할 때만 빼고 aboluste path 금지. file_2.txt 입력 금지 \n",
    "\n",
    "## 문제 3\n",
    "경로가 들어오면 해당 파일의 확장명을 구해주는 함수를 만들어 주세요 \n",
    "\n",
    "\n",
    "## 문제 4\n",
    "'file_2.txt' 을 먼저 만들고서, \"number\"라는 폴더명을 만든 후 파일명 중 \"file_\"을 제거 한 후 number 폴더로 복사 \n"
   ]
  },
  {
   "cell_type": "code",
   "execution_count": 62,
   "metadata": {
    "colab": {
     "base_uri": "https://localhost:8080/",
     "height": 36
    },
    "executionInfo": {
     "elapsed": 13,
     "status": "ok",
     "timestamp": 1680588629180,
     "user": {
      "displayName": "이준호",
      "userId": "11365630893761726830"
     },
     "user_tz": -540
    },
    "id": "CRxEKVmPyH_N",
    "outputId": "748f126b-be1e-411a-cc96-59a4d313cc0f"
   },
   "outputs": [
    {
     "data": {
      "application/vnd.google.colaboratory.intrinsic+json": {
       "type": "string"
      },
      "text/plain": [
       "'folder-5/new_file.txt'"
      ]
     },
     "execution_count": 62,
     "metadata": {},
     "output_type": "execute_result"
    }
   ],
   "source": []
  },
  {
   "cell_type": "code",
   "execution_count": null,
   "metadata": {
    "id": "vlvQ8FDPxTvl"
   },
   "outputs": [],
   "source": []
  }
 ],
 "metadata": {
  "colab": {
   "authorship_tag": "ABX9TyPdX6VCB9gASl0AV1B9pRQP",
   "provenance": []
  },
  "kernelspec": {
   "display_name": "Python 3 (ipykernel)",
   "language": "python",
   "name": "python3"
  },
  "language_info": {
   "codemirror_mode": {
    "name": "ipython",
    "version": 3
   },
   "file_extension": ".py",
   "mimetype": "text/x-python",
   "name": "python",
   "nbconvert_exporter": "python",
   "pygments_lexer": "ipython3",
   "version": "3.10.9"
  }
 },
 "nbformat": 4,
 "nbformat_minor": 1
}
