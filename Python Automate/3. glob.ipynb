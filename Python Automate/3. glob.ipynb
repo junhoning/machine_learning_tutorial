{
 "cells": [
  {
   "cell_type": "markdown",
   "metadata": {
    "id": "EipQgVqa0XVZ"
   },
   "source": [
    "# glob \n",
    "앞에 os 마지막 과제에 이어서 진행 됩니다. "
   ]
  },
  {
   "cell_type": "code",
   "execution_count": 1,
   "metadata": {
    "colab": {
     "base_uri": "https://localhost:8080/"
    },
    "executionInfo": {
     "elapsed": 442,
     "status": "ok",
     "timestamp": 1680590893480,
     "user": {
      "displayName": "이준호",
      "userId": "11365630893761726830"
     },
     "user_tz": -540
    },
    "id": "qgNXZxM5z5Pj",
    "outputId": "753dff46-fdee-494a-8e6c-cccb7f9c1719"
   },
   "outputs": [
    {
     "data": {
      "text/plain": [
       "['new_file.txt']"
      ]
     },
     "execution_count": 1,
     "metadata": {},
     "output_type": "execute_result"
    }
   ],
   "source": [
    "import os \n",
    "from glob import glob \n",
    "\n",
    "# 과제 1 답안 \n",
    "for n in range(20):\n",
    "    fname = 'folder-'+str(n)\n",
    "    os.mkdir(fname)\n",
    "\n",
    "with open('new_file.txt', 'w') as f:\n",
    "    f.write('first line')\n",
    "\n",
    "root_dir = os.listdir()[10]\n",
    "infolder = os.path.join(root_dir, 'infolder')\n",
    "os.makedirs(infolder)\n",
    "\n",
    "for n in range(3):\n",
    "    with open(os.path.join(infolder, f'file_{n}.txt'), 'w') as f:\n",
    "        f.write('first line')\n",
    "    \n",
    "# 과제 2 답안 \n",
    "fname = 'file_2.txt'\n",
    "new_folder = 'folder-5'\n",
    "old_path = os.path.join(infolder, fname)\n",
    "new_path = os.path.join('folder-5', fname.replace(fname, 'new_file.txt'))\n",
    "os.rename(old_path, new_path)\n",
    "\n",
    "os.listdir(new_folder)"
   ]
  },
  {
   "cell_type": "code",
   "execution_count": 8,
   "metadata": {},
   "outputs": [
    {
     "data": {
      "text/plain": [
       "['2. os.ipynb',\n",
       " '3. glob.ipynb',\n",
       " '1. PyAutoGUI.ipynb',\n",
       " '0. Python Basic.ipynb',\n",
       " '0. Error Handling.ipynb',\n",
       " '.ipynb_checkpoints',\n",
       " 'folder-0',\n",
       " 'folder-1',\n",
       " 'folder-2',\n",
       " 'folder-3',\n",
       " 'folder-4',\n",
       " 'folder-5',\n",
       " 'folder-6',\n",
       " 'folder-7',\n",
       " 'folder-8',\n",
       " 'folder-9',\n",
       " 'folder-10',\n",
       " 'folder-11',\n",
       " 'folder-12',\n",
       " 'folder-13',\n",
       " 'folder-14',\n",
       " 'folder-15',\n",
       " 'folder-16',\n",
       " 'folder-17',\n",
       " 'folder-18',\n",
       " 'folder-19',\n",
       " 'new_file.txt',\n",
       " 'desktop.ini']"
      ]
     },
     "execution_count": 8,
     "metadata": {},
     "output_type": "execute_result"
    }
   ],
   "source": [
    "os.listdir()"
   ]
  },
  {
   "cell_type": "code",
   "execution_count": 12,
   "metadata": {
    "colab": {
     "base_uri": "https://localhost:8080/"
    },
    "executionInfo": {
     "elapsed": 409,
     "status": "ok",
     "timestamp": 1680591000244,
     "user": {
      "displayName": "이준호",
      "userId": "11365630893761726830"
     },
     "user_tz": -540
    },
    "id": "RolRqs3u3CBS",
    "outputId": "dba0b156-5399-4da4-fbb1-ab17d47e0fd8"
   },
   "outputs": [
    {
     "data": {
      "text/plain": [
       "['folder-0',\n",
       " 'folder-1',\n",
       " 'folder-2',\n",
       " 'folder-3',\n",
       " 'folder-4',\n",
       " 'folder-5',\n",
       " 'folder-6',\n",
       " 'folder-7',\n",
       " 'folder-8',\n",
       " 'folder-9']"
      ]
     },
     "execution_count": 12,
     "metadata": {},
     "output_type": "execute_result"
    }
   ],
   "source": [
    "# 현재 위치내 모든 파일 확인 \n",
    "glob('*')"
   ]
  },
  {
   "cell_type": "code",
   "execution_count": 33,
   "metadata": {
    "colab": {
     "base_uri": "https://localhost:8080/"
    },
    "executionInfo": {
     "elapsed": 269,
     "status": "ok",
     "timestamp": 1680591022088,
     "user": {
      "displayName": "이준호",
      "userId": "11365630893761726830"
     },
     "user_tz": -540
    },
    "id": "wOHmpOwABxv8",
    "outputId": "889909b5-f50c-45a1-eacb-2b6d525ec6fb"
   },
   "outputs": [
    {
     "data": {
      "text/plain": [
       "['folder-19',\n",
       " 'folder-10',\n",
       " 'folder-17',\n",
       " 'folder-11',\n",
       " 'folder-8',\n",
       " 'folder-0',\n",
       " 'folder-9',\n",
       " 'folder-4',\n",
       " 'folder-5',\n",
       " 'folder-1',\n",
       " 'folder-18',\n",
       " 'folder-3',\n",
       " 'folder-14',\n",
       " 'folder-13',\n",
       " 'folder-6',\n",
       " 'folder-16',\n",
       " 'folder-2',\n",
       " 'folder-12',\n",
       " 'folder-15',\n",
       " 'folder-7']"
      ]
     },
     "execution_count": 33,
     "metadata": {},
     "output_type": "execute_result"
    }
   ],
   "source": [
    "# folder가 포함된 모든 파일 확인 \n",
    "glob('folder-*')"
   ]
  },
  {
   "cell_type": "code",
   "execution_count": 34,
   "metadata": {
    "colab": {
     "base_uri": "https://localhost:8080/"
    },
    "executionInfo": {
     "elapsed": 377,
     "status": "ok",
     "timestamp": 1680591060587,
     "user": {
      "displayName": "이준호",
      "userId": "11365630893761726830"
     },
     "user_tz": -540
    },
    "id": "i_qdEwbAB-Vc",
    "outputId": "27e3d12e-cc93-4588-9b85-d84ad4482526"
   },
   "outputs": [
    {
     "data": {
      "text/plain": [
       "['folder-19',\n",
       " 'folder-10',\n",
       " 'folder-17',\n",
       " 'folder-11',\n",
       " 'folder-8',\n",
       " 'folder-0',\n",
       " 'folder-9',\n",
       " 'folder-4',\n",
       " 'folder-5',\n",
       " 'folder-1',\n",
       " 'folder-18',\n",
       " 'folder-3',\n",
       " 'folder-14',\n",
       " 'folder-13',\n",
       " 'folder-6',\n",
       " 'folder-16',\n",
       " 'folder-2',\n",
       " 'folder-12',\n",
       " 'new_file.txt',\n",
       " 'folder-15',\n",
       " 'folder-7',\n",
       " 'sample_data']"
      ]
     },
     "execution_count": 34,
     "metadata": {},
     "output_type": "execute_result"
    }
   ],
   "source": [
    "# 중간에 'l'이 포함된 모든 파일 또는 폴더 \n",
    "glob('*l*')"
   ]
  },
  {
   "cell_type": "code",
   "execution_count": 35,
   "metadata": {
    "colab": {
     "base_uri": "https://localhost:8080/"
    },
    "executionInfo": {
     "elapsed": 314,
     "status": "ok",
     "timestamp": 1680591085136,
     "user": {
      "displayName": "이준호",
      "userId": "11365630893761726830"
     },
     "user_tz": -540
    },
    "id": "AM439sNTCHtc",
    "outputId": "7e748d34-a022-48d0-b58f-72f15951b569"
   },
   "outputs": [
    {
     "data": {
      "text/plain": [
       "['folder-19',\n",
       " 'folder-10',\n",
       " 'folder-17',\n",
       " 'folder-11',\n",
       " 'folder-8',\n",
       " 'folder-0',\n",
       " 'folder-9',\n",
       " 'folder-4',\n",
       " 'folder-5',\n",
       " 'folder-1',\n",
       " 'folder-18',\n",
       " 'folder-3',\n",
       " 'folder-14',\n",
       " 'folder-13',\n",
       " 'folder-6',\n",
       " 'folder-16',\n",
       " 'folder-2',\n",
       " 'folder-12',\n",
       " 'new_file.txt',\n",
       " 'folder-15',\n",
       " 'folder-7',\n",
       " 'sample_data']"
      ]
     },
     "execution_count": 35,
     "metadata": {},
     "output_type": "execute_result"
    }
   ],
   "source": [
    "# 이름 중간에 'l'이 포함된 모든 폴더 및 파일 \n",
    "glob('*l*')"
   ]
  },
  {
   "cell_type": "code",
   "execution_count": 37,
   "metadata": {
    "colab": {
     "base_uri": "https://localhost:8080/"
    },
    "executionInfo": {
     "elapsed": 317,
     "status": "ok",
     "timestamp": 1680591318198,
     "user": {
      "displayName": "이준호",
      "userId": "11365630893761726830"
     },
     "user_tz": -540
    },
    "id": "mD4l7PlVCNpP",
    "outputId": "1486b246-1aea-4d89-ecb3-95196e33080c"
   },
   "outputs": [
    {
     "data": {
      "text/plain": [
       "['folder-1/infolder/file_1.txt', 'folder-1/infolder/file_0.txt']"
      ]
     },
     "execution_count": 37,
     "metadata": {},
     "output_type": "execute_result"
    }
   ],
   "source": [
    "# 폴더 안에 모든 파일 찾기 \n",
    "glob('*/*/f*')"
   ]
  },
  {
   "cell_type": "code",
   "execution_count": 18,
   "metadata": {},
   "outputs": [
    {
     "data": {
      "text/plain": [
       "['folder-0',\n",
       " 'folder-1',\n",
       " 'folder-2',\n",
       " 'folder-3',\n",
       " 'folder-4',\n",
       " 'folder-5',\n",
       " 'folder-6',\n",
       " 'folder-7',\n",
       " 'folder-8',\n",
       " 'folder-9']"
      ]
     },
     "execution_count": 18,
     "metadata": {},
     "output_type": "execute_result"
    }
   ],
   "source": [
    "# 임의 문자 포함\n",
    "glob(\"folder-?\")"
   ]
  },
  {
   "cell_type": "code",
   "execution_count": 19,
   "metadata": {},
   "outputs": [
    {
     "data": {
      "text/plain": [
       "['folder-10',\n",
       " 'folder-11',\n",
       " 'folder-12',\n",
       " 'folder-13',\n",
       " 'folder-14',\n",
       " 'folder-15',\n",
       " 'folder-16',\n",
       " 'folder-17',\n",
       " 'folder-18',\n",
       " 'folder-19']"
      ]
     },
     "execution_count": 19,
     "metadata": {},
     "output_type": "execute_result"
    }
   ],
   "source": [
    "# 임의 문자 포함\n",
    "glob(\"folder-??\")"
   ]
  },
  {
   "cell_type": "code",
   "execution_count": 22,
   "metadata": {},
   "outputs": [
    {
     "data": {
      "text/plain": [
       "['folder-0', 'folder-1', 'folder-2', 'folder-3', 'folder-4', 'folder-5']"
      ]
     },
     "execution_count": 22,
     "metadata": {},
     "output_type": "execute_result"
    }
   ],
   "source": [
    "# 원하는 범위내의 문자열\n",
    "glob(\"folder-[0-5]\")"
   ]
  },
  {
   "cell_type": "code",
   "execution_count": 24,
   "metadata": {},
   "outputs": [
    {
     "data": {
      "text/plain": [
       "['folder-0',\n",
       " 'folder-1',\n",
       " 'folder-2',\n",
       " 'folder-3',\n",
       " 'folder-4',\n",
       " 'folder-5',\n",
       " 'folder-6',\n",
       " 'folder-7',\n",
       " 'folder-8',\n",
       " 'folder-9',\n",
       " 'folder-10',\n",
       " 'folder-11',\n",
       " 'folder-12',\n",
       " 'folder-13',\n",
       " 'folder-14',\n",
       " 'folder-15',\n",
       " 'folder-16',\n",
       " 'folder-17',\n",
       " 'folder-18',\n",
       " 'folder-19']"
      ]
     },
     "execution_count": 24,
     "metadata": {},
     "output_type": "execute_result"
    }
   ],
   "source": [
    "glob(\"folde[a-z]-*\")"
   ]
  },
  {
   "cell_type": "markdown",
   "metadata": {
    "id": "KysAi1keClk2"
   },
   "source": [
    "## 과제. 1\n",
    "확장자 txt이 포함된 모든 파일을 보여주세요 "
   ]
  },
  {
   "cell_type": "code",
   "execution_count": 37,
   "metadata": {
    "executionInfo": {
     "elapsed": 429,
     "status": "ok",
     "timestamp": 1680591329719,
     "user": {
      "displayName": "이준호",
      "userId": "11365630893761726830"
     },
     "user_tz": -540
    },
    "id": "YoEmFoP4Cne-"
   },
   "outputs": [],
   "source": []
  },
  {
   "cell_type": "markdown",
   "metadata": {
    "id": "-gLsIdDSDKrG"
   },
   "source": [
    "# shutil \n",
    "\n",
    "os 와 기능이 비슷하지만 조금은 더 조심스럽게 쓰길 요망 \n",
    "- shutil.move -> os.rename과 비슷한 기능 \n",
    "- shutil.copy\n",
    "- shutil.rmtree"
   ]
  },
  {
   "cell_type": "code",
   "execution_count": 38,
   "metadata": {
    "colab": {
     "base_uri": "https://localhost:8080/"
    },
    "executionInfo": {
     "elapsed": 384,
     "status": "ok",
     "timestamp": 1680591534031,
     "user": {
      "displayName": "이준호",
      "userId": "11365630893761726830"
     },
     "user_tz": -540
    },
    "id": "pTUwzKw9DJYl",
    "outputId": "39f850c4-8592-49c6-fd64-06d66182d86d"
   },
   "outputs": [
    {
     "data": {
      "text/plain": [
       "['.config',\n",
       " 'folder-19',\n",
       " 'folder-10',\n",
       " 'folder-17',\n",
       " 'folder-11',\n",
       " 'folder-8',\n",
       " 'folder-0',\n",
       " 'folder-9',\n",
       " 'folder-4',\n",
       " 'folder-5',\n",
       " 'folder-1',\n",
       " 'folder-18',\n",
       " 'folder-3',\n",
       " 'folder-14',\n",
       " 'folder-13',\n",
       " 'folder-6',\n",
       " 'folder-16',\n",
       " 'folder-2',\n",
       " 'folder-12',\n",
       " 'new_file.txt',\n",
       " 'folder-15',\n",
       " 'folder-7',\n",
       " 'sample_data']"
      ]
     },
     "execution_count": 38,
     "metadata": {},
     "output_type": "execute_result"
    }
   ],
   "source": [
    "os.listdir()"
   ]
  },
  {
   "cell_type": "code",
   "execution_count": null,
   "metadata": {},
   "outputs": [],
   "source": [
    "# 폴더채 이동 : shutil은 os.rename과 다르게 폴더채 이동 가능 \n",
    "shutil.move('folder-5', 'folder-3/folder-5')"
   ]
  },
  {
   "cell_type": "code",
   "execution_count": 41,
   "metadata": {
    "colab": {
     "base_uri": "https://localhost:8080/",
     "height": 36
    },
    "executionInfo": {
     "elapsed": 388,
     "status": "ok",
     "timestamp": 1680591581473,
     "user": {
      "displayName": "이준호",
      "userId": "11365630893761726830"
     },
     "user_tz": -540
    },
    "id": "wBdQPC-TD7TI",
    "outputId": "16adac31-f533-42e3-8b4b-4e7eb0273a3e"
   },
   "outputs": [
    {
     "data": {
      "application/vnd.google.colaboratory.intrinsic+json": {
       "type": "string"
      },
      "text/plain": [
       "'folder-2/folder-13'"
      ]
     },
     "execution_count": 41,
     "metadata": {},
     "output_type": "execute_result"
    }
   ],
   "source": [
    "# 파일 이름 바꾸며 파일 이동 \n",
    "shutil.move('folder-15', 'folder-2/folder-13')"
   ]
  },
  {
   "cell_type": "code",
   "execution_count": 45,
   "metadata": {
    "colab": {
     "base_uri": "https://localhost:8080/",
     "height": 36
    },
    "executionInfo": {
     "elapsed": 17,
     "status": "ok",
     "timestamp": 1680591702027,
     "user": {
      "displayName": "이준호",
      "userId": "11365630893761726830"
     },
     "user_tz": -540
    },
    "id": "VMzLGv8FEBaL",
    "outputId": "a4d41e34-97d2-4033-a87b-f7d97eb6aa28"
   },
   "outputs": [
    {
     "data": {
      "application/vnd.google.colaboratory.intrinsic+json": {
       "type": "string"
      },
      "text/plain": [
       "'folder-2/new_file.txt'"
      ]
     },
     "execution_count": 45,
     "metadata": {},
     "output_type": "execute_result"
    }
   ],
   "source": [
    "# 파일 복사 \n",
    "shutil.copy('folder-5/new_file.txt', 'folder-2/new_file.txt')"
   ]
  },
  {
   "cell_type": "code",
   "execution_count": 47,
   "metadata": {
    "colab": {
     "base_uri": "https://localhost:8080/"
    },
    "executionInfo": {
     "elapsed": 359,
     "status": "ok",
     "timestamp": 1680591738526,
     "user": {
      "displayName": "이준호",
      "userId": "11365630893761726830"
     },
     "user_tz": -540
    },
    "id": "L8Sk9geVEXKf",
    "outputId": "22fa23ea-f885-4db1-d80f-36fe738cb93c"
   },
   "outputs": [
    {
     "name": "stdout",
     "output_type": "stream",
     "text": [
      "['new_file.txt']\n",
      "['folder-13', 'new_file.txt']\n"
     ]
    }
   ],
   "source": [
    "print(os.listdir('folder-5'))\n",
    "print(os.listdir('folder-2'))"
   ]
  },
  {
   "cell_type": "code",
   "execution_count": 48,
   "metadata": {
    "colab": {
     "base_uri": "https://localhost:8080/"
    },
    "executionInfo": {
     "elapsed": 428,
     "status": "ok",
     "timestamp": 1680591777162,
     "user": {
      "displayName": "이준호",
      "userId": "11365630893761726830"
     },
     "user_tz": -540
    },
    "id": "iy3I672vETEi",
    "outputId": "7c52b8e4-d991-4023-914e-1e28d919594f"
   },
   "outputs": [
    {
     "data": {
      "text/plain": [
       "['.config',\n",
       " 'folder-19',\n",
       " 'folder-10',\n",
       " 'folder-17',\n",
       " 'folder-11',\n",
       " 'folder-8',\n",
       " 'folder-0',\n",
       " 'folder-9',\n",
       " 'folder-4',\n",
       " 'folder-1',\n",
       " 'folder-18',\n",
       " 'folder-3',\n",
       " 'folder-14',\n",
       " 'folder-13',\n",
       " 'folder-6',\n",
       " 'folder-16',\n",
       " 'folder-2',\n",
       " 'folder-12',\n",
       " 'new_file.txt',\n",
       " 'folder-7',\n",
       " 'sample_data']"
      ]
     },
     "execution_count": 48,
     "metadata": {},
     "output_type": "execute_result"
    }
   ],
   "source": [
    "shutil.rmtree('folder-5')\n",
    "\n",
    "os.listdir()"
   ]
  },
  {
   "cell_type": "code",
   "execution_count": null,
   "metadata": {
    "id": "dOc4Nza-E2pQ"
   },
   "outputs": [],
   "source": []
  },
  {
   "cell_type": "markdown",
   "metadata": {
    "id": "UXJOUU1gE3xA"
   },
   "source": [
    "# 과제. 2 \n",
    "\n",
    "위에서 생성한 모든 폴더와 파일들만 골라서 삭제 해주세요"
   ]
  },
  {
   "cell_type": "code",
   "execution_count": null,
   "metadata": {
    "id": "pBanC3OoE8z-"
   },
   "outputs": [],
   "source": []
  }
 ],
 "metadata": {
  "colab": {
   "authorship_tag": "ABX9TyPB++854clrQvupmoa797MO",
   "provenance": []
  },
  "kernelspec": {
   "display_name": "Python 3 (ipykernel)",
   "language": "python",
   "name": "python3"
  },
  "language_info": {
   "codemirror_mode": {
    "name": "ipython",
    "version": 3
   },
   "file_extension": ".py",
   "mimetype": "text/x-python",
   "name": "python",
   "nbconvert_exporter": "python",
   "pygments_lexer": "ipython3",
   "version": "3.10.9"
  }
 },
 "nbformat": 4,
 "nbformat_minor": 1
}
