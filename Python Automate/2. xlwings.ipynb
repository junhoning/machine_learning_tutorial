{
 "cells": [
  {
   "cell_type": "markdown",
   "id": "2afa896b",
   "metadata": {},
   "source": [
    "# XLWings 기본 "
   ]
  },
  {
   "cell_type": "markdown",
   "id": "6d3198cd",
   "metadata": {},
   "source": [
    "Pandas는 csv, excel과 같이 table 데이터를 열어서 코드로 관리하는 도구라면,  \n",
    "xlwings는 excel을 열어서 외부에서 조종하는 프로그램 같은 것이 차이\n",
    "\n",
    "DRM보안에 걸리지 않고, 다른 모듈에 비해 가장 VBA와 비슷한 명령어로 사용할 수 있음 \n",
    "\n",
    "* 중요  \n",
    "xlwings는 엑셀 파일을 열어주고서 조정 해주는 원리라는 것을 이해해야함 "
   ]
  },
  {
   "cell_type": "code",
   "execution_count": 5,
   "id": "8c5e5110",
   "metadata": {},
   "outputs": [],
   "source": [
    "import xlwings as xw"
   ]
  },
  {
   "cell_type": "code",
   "execution_count": 6,
   "id": "c1c3432d",
   "metadata": {},
   "outputs": [],
   "source": [
    "# 기본 엑셀 파일 열고 닫기 \n",
    "path = '../data.xlsx'"
   ]
  },
  {
   "cell_type": "code",
   "execution_count": 7,
   "id": "766510c8",
   "metadata": {},
   "outputs": [],
   "source": [
    "wb = xw.Book(path)"
   ]
  },
  {
   "cell_type": "code",
   "execution_count": 11,
   "id": "7361d7f1",
   "metadata": {},
   "outputs": [],
   "source": [
    "wb.save('new_saved.xlsx')\n",
    "wb.close()"
   ]
  },
  {
   "cell_type": "code",
   "execution_count": 13,
   "id": "e230eeef",
   "metadata": {},
   "outputs": [],
   "source": [
    "# 짧게 \n",
    "with xw.Book(path) as wb:\n",
    "    wb.save('new_saved.xlsx')"
   ]
  },
  {
   "cell_type": "code",
   "execution_count": 18,
   "id": "58f9392f",
   "metadata": {},
   "outputs": [],
   "source": [
    "# 활성 통합 문서를 참조하려면 xw.books.active 속성을 사용합니다\n",
    "active_wb = xw.books.active"
   ]
  },
  {
   "cell_type": "code",
   "execution_count": 22,
   "id": "2c8a2231",
   "metadata": {},
   "outputs": [
    {
     "name": "stdout",
     "output_type": "stream",
     "text": [
      "None [[None, None], [None, None]]\n"
     ]
    }
   ],
   "source": [
    "# 통합 문서의 활성 시트를 참조하려면 sheets.active 속성을 사용합니다.\n",
    "wb = xw.Book(path)\n",
    "\n",
    "active_sheet = wb.sheets.active\n",
    "\n",
    "# sheet의 이름과 인덱스 정해주기 \n",
    "sheet_by_name = wb.sheets['Sheet1']\n",
    "sheet_by_index = wb.sheets[0]\n",
    "\n",
    "# 특정 셀이나 범위를 참조하려면 range() 메서드\n",
    "cell_a1 = active_sheet.range('A1')\n",
    "range_a1_b2 = active_sheet.range('A1:B2')\n",
    "\n",
    "# 슬라이스처럼 []로도 사용 가능 \n",
    "cell = active_sheet['A1']\n",
    "range_cells = active_sheet['A1:B2']\n",
    "\n",
    "cell_value = cell.value\n",
    "range_values = range_cells.value\n",
    "print(cell.value, range_cells.value)"
   ]
  },
  {
   "cell_type": "code",
   "execution_count": null,
   "id": "836249f5",
   "metadata": {},
   "outputs": [],
   "source": [
    "wb.close()"
   ]
  },
  {
   "cell_type": "code",
   "execution_count": 23,
   "id": "1d752e0b",
   "metadata": {},
   "outputs": [
    {
     "name": "stdout",
     "output_type": "stream",
     "text": [
      "Sheets([<Sheet [Book1]productB>, <Sheet [Book1]productA>, <Sheet [Book1]Sheet1>])\n"
     ]
    }
   ],
   "source": [
    "wb = xw.Book(path)\n",
    "wb.sheets.add(\"productA\")\n",
    "wb.sheets.add(\"productB\")\n",
    "\n",
    "sn_list = wb.sheets\n",
    "print(wb.sheets)"
   ]
  },
  {
   "cell_type": "code",
   "execution_count": null,
   "id": "3f2fb47d",
   "metadata": {},
   "outputs": [],
   "source": [
    "wb.close()"
   ]
  },
  {
   "cell_type": "code",
   "execution_count": 25,
   "id": "48e5d778",
   "metadata": {},
   "outputs": [
    {
     "name": "stdout",
     "output_type": "stream",
     "text": [
      "<Range [Book1]Sheet1!$A$1>\n"
     ]
    }
   ],
   "source": [
    "# sheet 값 들여다보기 \n",
    "wb = xw.Book(path)\n",
    "wb.sheets.add(\"productA\")\n",
    "\n",
    "sn_list = wb.sheets\n",
    "print(wb.sheets['Sheet1'])"
   ]
  },
  {
   "cell_type": "code",
   "execution_count": null,
   "id": "5c4915b9",
   "metadata": {},
   "outputs": [],
   "source": [
    "wb.close()"
   ]
  },
  {
   "cell_type": "code",
   "execution_count": 26,
   "id": "52c0e8b2",
   "metadata": {},
   "outputs": [
    {
     "name": "stdout",
     "output_type": "stream",
     "text": [
      "None\n"
     ]
    }
   ],
   "source": [
    "wb = xw.Book(path)\n",
    "\n",
    "wb.sheets.add(\"productA\")\n",
    "\n",
    "sn_list = wb.sheets\n",
    "print(wb.sheets['Sheet1']['A1'])"
   ]
  },
  {
   "cell_type": "code",
   "execution_count": null,
   "id": "8aaab12d",
   "metadata": {},
   "outputs": [],
   "source": [
    "wb.close()"
   ]
  },
  {
   "cell_type": "code",
   "execution_count": 37,
   "id": "6ab4238e",
   "metadata": {},
   "outputs": [
    {
     "name": "stdout",
     "output_type": "stream",
     "text": [
      "Embarked\n"
     ]
    }
   ],
   "source": [
    "# 마지막 위치값 알기 \n",
    "wb = xw.Book(path)\n",
    "\n",
    "ws = wb.sheets['sheet1']\n",
    "end = ws.range(\"A1\").end(\"right\")"
   ]
  },
  {
   "cell_type": "code",
   "execution_count": 41,
   "id": "de80fc77",
   "metadata": {},
   "outputs": [
    {
     "name": "stdout",
     "output_type": "stream",
     "text": [
      "2\n"
     ]
    }
   ],
   "source": [
    "row = ws.range(\"B2\").end('right').row\n",
    "print(row)"
   ]
  },
  {
   "cell_type": "code",
   "execution_count": 40,
   "id": "527e26e7",
   "metadata": {},
   "outputs": [
    {
     "name": "stdout",
     "output_type": "stream",
     "text": [
      "7.25\n"
     ]
    }
   ],
   "source": [
    "col = ws.range(\"B2\").end('right').column\n",
    "print(col)"
   ]
  },
  {
   "cell_type": "code",
   "execution_count": null,
   "id": "a2461651",
   "metadata": {},
   "outputs": [],
   "source": [
    "wb.close()"
   ]
  },
  {
   "cell_type": "markdown",
   "id": "c75b8755",
   "metadata": {},
   "source": [
    "## XLWings 수정 및 추가 하기 "
   ]
  },
  {
   "cell_type": "code",
   "execution_count": 56,
   "id": "996b1487",
   "metadata": {},
   "outputs": [],
   "source": [
    "wb = xw.Book()\n",
    "\n",
    "# Sheet 추가하고 이름 바꾸기\n",
    "new_sheet = wb.sheets.add(\"Sheet2\")"
   ]
  },
  {
   "cell_type": "code",
   "execution_count": 58,
   "id": "e005702c",
   "metadata": {},
   "outputs": [],
   "source": [
    "# sheet 이름 바꾸기 \n",
    "sheet = wb.sheets['Sheet2']\n",
    "sheet.name = 'NewName'"
   ]
  },
  {
   "cell_type": "code",
   "execution_count": 59,
   "id": "520da2a2",
   "metadata": {},
   "outputs": [],
   "source": [
    "# Sheet 삭제하기 \n",
    "sheet_del = wb.sheets['NewName']\n",
    "sheet_del.delete()"
   ]
  },
  {
   "cell_type": "code",
   "execution_count": 61,
   "id": "0c08a874",
   "metadata": {},
   "outputs": [],
   "source": [
    "# Sheet 선택하기 \n",
    "ws = wb.sheets['Sheet1']"
   ]
  },
  {
   "cell_type": "code",
   "execution_count": 65,
   "id": "b8fa1c9f",
   "metadata": {},
   "outputs": [],
   "source": [
    "# Cell 입력하기 \n",
    "ws.range('A1').value = '이름'"
   ]
  },
  {
   "cell_type": "code",
   "execution_count": 66,
   "id": "0099062f",
   "metadata": {},
   "outputs": [],
   "source": [
    "# 한 위치 기준으로 여러 value 값 입력 \n",
    "ws.range(\"B1\").value = ['성적', '등급']"
   ]
  },
  {
   "cell_type": "code",
   "execution_count": 68,
   "id": "d9ea6a7c",
   "metadata": {},
   "outputs": [],
   "source": [
    "# tranpose 하여 입력 \n",
    "ws.range(\"A2\").options(transpose=True).value = [\"홍길동\", \"김앨런\", \"이게이츠\"]"
   ]
  },
  {
   "cell_type": "code",
   "execution_count": 69,
   "id": "e544d119",
   "metadata": {},
   "outputs": [],
   "source": [
    "# 2차원 정보로 입력 \n",
    "ws.range(\"B2\").value = [[90, 'A'], [80, 'B'], [85, 'B']]"
   ]
  },
  {
   "cell_type": "code",
   "execution_count": 70,
   "id": "5aaeeaa3",
   "metadata": {},
   "outputs": [],
   "source": [
    "# 입력값 수정 \n",
    "ws.range(\"B4:C4\").value = [92, 'A']"
   ]
  },
  {
   "cell_type": "code",
   "execution_count": 71,
   "id": "57ef4fea",
   "metadata": {},
   "outputs": [],
   "source": [
    "wb.close()"
   ]
  },
  {
   "cell_type": "markdown",
   "id": "462e68cf",
   "metadata": {},
   "source": [
    "# API 활용"
   ]
  },
  {
   "cell_type": "code",
   "execution_count": 72,
   "id": "7d2028fc",
   "metadata": {},
   "outputs": [],
   "source": [
    "\"\"\"\n",
    "center = -4108\n",
    "right = -4152\n",
    "Left = -4131\n",
    "\n",
    "# Align text vertically \n",
    "ws.range(1, 1).api.VerticalAlignment = -4160\n",
    "ws.range(1, 2).api.VerticalAlignment = VAlign.xlVAlignCenter\n",
    "ws.range(1, 3).api.VerticalAlignment = VAlign.xlVAlignBottom\n",
    "# Align text horizontally\n",
    "ws.range(2, 1).api.HorizontalAlignment = HAlign.xlHAlignLeft\n",
    "ws.range(2, 2).api.HorizontalAlignment = HAlign.xlHAlignCenter\n",
    "ws.range(2, 3).api.HorizontalAlignment = -4152\n",
    "\"\"\"\n",
    "from xlwings.constants import VAlign, HAlign\n",
    "    \n",
    "wb = xw.Book()\n",
    "ws = wb.sheets['sheet1']\n",
    "\n",
    "ws.range('A1:B1').value = ['a', 'b']\n",
    "ws.range('A1').api.HorizontalAlignment = HAlign.xlHAlignCenter"
   ]
  },
  {
   "cell_type": "code",
   "execution_count": null,
   "id": "cd2dce7a",
   "metadata": {},
   "outputs": [],
   "source": [
    "wb.close()"
   ]
  },
  {
   "cell_type": "code",
   "execution_count": 63,
   "id": "35aaba2f",
   "metadata": {},
   "outputs": [
    {
     "name": "stdout",
     "output_type": "stream",
     "text": [
      "Calibri\n",
      "Arial\n"
     ]
    }
   ],
   "source": [
    "with xw.Book(path) as wb:\n",
    "    \n",
    "wb = xw.Book(path)\n",
    "cells = wb.sheets['Sheet1']['A1:B3']\n",
    "\n",
    "# 기존 폰트명 \n",
    "print(cells.api.Font.Name)\n",
    "old_font = cells.api.Font.Name\n",
    "cells.api.Font.Name = 'Arial'\n",
    "\n",
    "# 새로운 폰트명 \n",
    "print(cells.api.Font.Name)\n",
    "\n",
    "range_to_format.api.Font.Size\n",
    "range_to_format.api.Font.Color"
   ]
  },
  {
   "cell_type": "code",
   "execution_count": null,
   "id": "46dfee7b",
   "metadata": {},
   "outputs": [],
   "source": [
    "wb.close()"
   ]
  },
  {
   "cell_type": "code",
   "execution_count": null,
   "id": "899cf86f",
   "metadata": {},
   "outputs": [],
   "source": [
    "# 엑셀에서 처럼의 함수 넣기 \n",
    "wb = wx.Book()\n",
    "ws = wb.sheets['Sheet1']\n",
    "\n",
    "ws.range('A1:B1').value = ['Category', 'Score']\n",
    "ws.range('A2:B4').value = [['국어', 80], ['국사', 60], ['수학', 90]]\n",
    "ws.range('B5').value = '=AVERAGE(B2:B3)'\n",
    "print(ws.range('B5').value)"
   ]
  },
  {
   "cell_type": "code",
   "execution_count": 28,
   "id": "d6c42c88",
   "metadata": {},
   "outputs": [
    {
     "name": "stdout",
     "output_type": "stream",
     "text": [
      "1200.0\n"
     ]
    }
   ],
   "source": [
    "wb.close"
   ]
  },
  {
   "cell_type": "markdown",
   "id": "e0f4ce7f",
   "metadata": {},
   "source": [
    "# Manipulating Excel Data"
   ]
  },
  {
   "cell_type": "code",
   "execution_count": 64,
   "id": "d116ddbb",
   "metadata": {},
   "outputs": [
    {
     "name": "stdout",
     "output_type": "stream",
     "text": [
      "=== Before Copy ===\n",
      "[['PassengerId', 'Survived'], [1.0, 0.0], [2.0, 1.0]]\n",
      "Name\n",
      "=== After Copy ===\n",
      "[['PassengerId', 'Survived'], [1.0, 0.0], [2.0, 1.0]]\n",
      "PassengerId\n"
     ]
    }
   ],
   "source": [
    "wb = xw.Book(path)\n",
    "\n",
    "source_range = wb.sheets['Sheet1']['A1:B3']\n",
    "destination_range = wb.sheets['Sheet1']['D1']\n",
    "\n",
    "print(\"=== Before Copy ===\")\n",
    "print(source_range.value)\n",
    "print(destination_range.value)\n",
    "\n",
    "source_range.copy(destination_range)\n",
    "\n",
    "print(\"=== After Copy ===\")\n",
    "print(source_range.value)\n",
    "print(destination_range.value)"
   ]
  },
  {
   "cell_type": "code",
   "execution_count": null,
   "id": "ff056b5c",
   "metadata": {},
   "outputs": [],
   "source": [
    "wb.close()"
   ]
  },
  {
   "cell_type": "code",
   "execution_count": 68,
   "id": "1072ee43",
   "metadata": {},
   "outputs": [
    {
     "name": "stdout",
     "output_type": "stream",
     "text": [
      "[['PassengerId', None, 'Survived', 'Pclass'], [None, None, None, None], [1.0, None, 0.0, 3.0], [2.0, None, 1.0, 1.0]]\n"
     ]
    }
   ],
   "source": [
    "wb = xw.Book(path)\n",
    "\n",
    "# Insert a row before row 2\n",
    "wb.sheets['Sheet1'].range('2:2').insert(shift='down')\n",
    "\n",
    "# Insert a column before column B\n",
    "wb.sheets['Sheet1'].range('B:B').insert(shift='right')\n",
    "\n",
    "print(wb.sheets['Sheet1']['A1:D4'].value)"
   ]
  },
  {
   "cell_type": "code",
   "execution_count": null,
   "id": "0601c356",
   "metadata": {},
   "outputs": [],
   "source": [
    "wb.close()"
   ]
  },
  {
   "cell_type": "code",
   "execution_count": null,
   "id": "a1b13c68",
   "metadata": {},
   "outputs": [],
   "source": [
    "wb = xw.Book(path)\n",
    "# Delete row 2\n",
    "wb.sheets['Sheet1'].range('2:2').delete(shift='up')\n",
    "\n",
    "# Delete column B\n",
    "wb.sheets['Sheet1'].range('B:B').delete(shift='left')\n",
    "\n",
    "print(wb.sheets['Sheet1']['A1:D4'].value)"
   ]
  },
  {
   "cell_type": "code",
   "execution_count": null,
   "id": "a45b488c",
   "metadata": {},
   "outputs": [],
   "source": [
    "wb.close()"
   ]
  }
 ],
 "metadata": {
  "kernelspec": {
   "display_name": "Python 3 (ipykernel)",
   "language": "python",
   "name": "python3"
  },
  "language_info": {
   "codemirror_mode": {
    "name": "ipython",
    "version": 3
   },
   "file_extension": ".py",
   "mimetype": "text/x-python",
   "name": "python",
   "nbconvert_exporter": "python",
   "pygments_lexer": "ipython3",
   "version": "3.10.9"
  }
 },
 "nbformat": 4,
 "nbformat_minor": 5
}
