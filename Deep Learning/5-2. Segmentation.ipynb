{
 "cells": [
  {
   "cell_type": "markdown",
   "metadata": {
    "colab_type": "text",
    "id": "ls1EV6zgj2tK"
   },
   "source": [
    "# Prepare"
   ]
  },
  {
   "cell_type": "markdown",
   "metadata": {
    "colab_type": "text",
    "id": "QH_NNyMKVTiV"
   },
   "source": [
    "## Load Dataset and Packages"
   ]
  },
  {
   "cell_type": "code",
   "execution_count": null,
   "metadata": {
    "colab": {
     "base_uri": "https://localhost:8080/"
    },
    "colab_type": "code",
    "id": "w2hHQJwHZyB_",
    "outputId": "5ced48f3-74d5-4004-f51b-6ab5a517c597"
   },
   "outputs": [],
   "source": [
    "from datetime import datetime\n",
    "import os\n",
    "from glob import glob\n",
    "import shutil\n",
    "import numpy as np\n",
    "import random\n",
    "import math\n",
    "\n",
    "from PIL import Image\n",
    "import cv2\n",
    "import matplotlib.pyplot as plt\n",
    "\n",
    "import tensorflow as tf\n",
    "from tensorflow.keras import layers\n",
    "import tensorflow.keras.backend as K\n",
    "from keras.models import model_from_json\n",
    "from tensorflow.keras.callbacks import LearningRateScheduler, ModelCheckpoint\n",
    "from tensorflow.keras.preprocessing.image import ImageDataGenerator\n",
    "\n",
    "%matplotlib inline"
   ]
  },
  {
   "cell_type": "code",
   "execution_count": null,
   "metadata": {
    "colab": {},
    "colab_type": "code",
    "id": "pnxCzknCZyCL"
   },
   "outputs": [],
   "source": [
    "num_classes = 13\n",
    "input_shape = (600, 800, 3)\n",
    "\n",
    "drop_out = 0.5\n",
    "decay_steps = 5\n",
    "decay_rate = 0.8\n",
    "learning_rate = 0.001\n",
    "batch_size = 2\n",
    "num_epochs = 1"
   ]
  },
  {
   "cell_type": "markdown",
   "metadata": {
    "colab_type": "text",
    "id": "ChUaoc1Vj0cr"
   },
   "source": [
    "## Build Model"
   ]
  },
  {
   "cell_type": "code",
   "execution_count": null,
   "metadata": {
    "colab": {},
    "colab_type": "code",
    "id": "gZDUuy1WPCOk"
   },
   "outputs": [],
   "source": [
    "def modified_unet(input_shape):\n",
    "    bn=True\n",
    "    \n",
    "    ki= 'he_uniform'  # 'glorot_normal' \"he_normal\"\n",
    "    \n",
    "    concat_axis = -1\n",
    "    \n",
    "    inputs = layers.Input(input_shape)\n",
    "    \n",
    "    conv1 = layers.Conv2D(64, (5,5), padding=\"same\", activation=\"relu\", kernel_initializer=ki)(inputs)\n",
    "    conv1 = layers.BatchNormalization()(conv1)\n",
    "    conv1 = layers.Dropout(drop_out)(conv1)\n",
    "    conv1 = layers.Conv2D(64, (5,5), padding=\"same\", activation=\"relu\", kernel_initializer=ki)(conv1)\n",
    "    conv1 = layers.BatchNormalization()(conv1)\n",
    "    \n",
    "    pool1 = layers.MaxPooling2D(pool_size=(2,2))(conv1)\n",
    "    \n",
    "    conv2 = layers.Conv2D(96, (3,3), padding=\"same\", activation=\"relu\", kernel_initializer=ki)(pool1)  # 96\n",
    "    conv2 = layers.BatchNormalization()(conv2)\n",
    "    conv2 = layers.Dropout(drop_out)(conv2)\n",
    "    conv2 = layers.Conv2D(96, (3,3), padding=\"same\", activation=\"relu\", kernel_initializer=ki)(conv2)\n",
    "    conv2 = layers.BatchNormalization()(conv2)\n",
    "    \n",
    "    pool2 = layers.MaxPooling2D(pool_size=(2,2))(conv2)\n",
    "    \n",
    "    conv3 = layers.Conv2D(128, (3,3), padding=\"same\", activation=\"relu\", kernel_initializer=ki)(pool2)  # 128\n",
    "    conv3 = layers.BatchNormalization()(conv3)\n",
    "    conv3 = layers.Dropout(drop_out)(conv3)\n",
    "    conv3 = layers.Conv2D(128, (3,3), padding=\"same\", activation=\"relu\", kernel_initializer=ki)(conv3)\n",
    "    conv3 = layers.BatchNormalization()(conv3)\n",
    "    \n",
    "    pool3 = layers.MaxPooling2D(pool_size=(2,2))(conv3)\n",
    "    \n",
    "    conv4 = layers.Conv2D(256, (3,3), padding=\"same\", activation=\"relu\", kernel_initializer=ki)(pool3)  # 256\n",
    "    conv4 = layers.BatchNormalization()(conv4)\n",
    "    conv4 = layers.Dropout(drop_out)(conv4)\n",
    "    conv4 = layers.Conv2D(256, (3,3), padding=\"same\", activation=\"relu\", kernel_initializer=ki)(conv4)\n",
    "    conv4 = layers.BatchNormalization()(conv4)\n",
    "    \n",
    "    #######\n",
    "    \n",
    "    conv4 = layers.Conv2D(512, (3,3), dilation_rate=2, padding=\"same\", activation=\"relu\", kernel_initializer=ki)(conv4)  # 512\n",
    "    cat6 = conv4\n",
    "    \n",
    "    conv6 = layers.Conv2D(256, (3,3), padding=\"same\", activation=\"relu\", kernel_initializer=ki)(cat6)  # 256\n",
    "    conv6 = layers.BatchNormalization()(conv6)\n",
    "    conv6 = layers.Dropout(drop_out)(conv6)\n",
    "    conv6 = layers.Conv2D(256, (3,3), padding=\"same\", activation=\"relu\", kernel_initializer=ki)(conv6)\n",
    "    conv6 = layers.BatchNormalization()(conv6)\n",
    "    upconv6 = layers.Conv2DTranspose(128, (2, 2), strides=(2, 2), padding='same', kernel_initializer=ki)(conv6)  # 128\n",
    "    \n",
    "    up7 = layers.concatenate([upconv6, conv3], axis=concat_axis)\n",
    "    \n",
    "    conv7 = layers.Conv2D(128, (3,3), padding=\"same\", activation=\"relu\", kernel_initializer=ki)(up7)  # 128\n",
    "    conv7 = layers.BatchNormalization()(conv7)\n",
    "    conv7 = layers.Dropout(drop_out)(conv7)\n",
    "    conv7 = layers.Conv2D(128, (3,3), padding=\"same\", activation=\"relu\")(conv7)\n",
    "    conv7 = layers.BatchNormalization()(conv7)\n",
    "    upconv7 = layers.Conv2DTranspose(96, (2, 2), strides=(2, 2), padding='same', kernel_initializer=ki)(conv7)  # 96\n",
    "    \n",
    "    up8 = layers.concatenate([upconv7, conv2], axis=concat_axis)\n",
    "    \n",
    "    conv8 = layers.Conv2D(96, (3,3), padding=\"same\", activation=\"relu\", kernel_initializer=ki)(up8)  # 96\n",
    "    conv8 = layers.BatchNormalization()(conv8)\n",
    "    conv8 = layers.Dropout(drop_out)(conv8)\n",
    "    conv8 = layers.Conv2D(96, (3,3), padding=\"same\", activation=\"relu\", kernel_initializer=ki)(conv8)\n",
    "    conv8 = layers.BatchNormalization()(conv8)\n",
    "    upconv8 = layers.Conv2DTranspose(64, (2, 2), strides=(2, 2), padding='same', kernel_initializer=ki)(conv8)\n",
    "    \n",
    "    up9 = layers.concatenate([upconv8, conv1], axis=concat_axis)\n",
    "    \n",
    "    conv9 = layers.Conv2D(64, (3,3), padding=\"same\", activation=\"relu\", kernel_initializer=ki)(up9)\n",
    "    conv9 = layers.BatchNormalization()(conv9)\n",
    "    conv9 = layers.Conv2D(64, (3,3), padding=\"same\", activation=\"relu\", kernel_initializer=ki)(conv9)\n",
    "    conv9 = layers.BatchNormalization()(conv9)\n",
    "\n",
    "    conv9 = layers.Conv2D(num_classes, (1,1), padding=\"same\", activation=\"softmax\", kernel_initializer=ki)(conv9)\n",
    "    \n",
    "    model = tf.keras.Model(inputs=inputs, outputs=conv9)\n",
    "    return model"
   ]
  },
  {
   "cell_type": "markdown",
   "metadata": {
    "colab_type": "text",
    "id": "pvxwN-adl3Ge"
   },
   "source": [
    "# Set for Train"
   ]
  },
  {
   "cell_type": "markdown",
   "metadata": {
    "colab_type": "text",
    "id": "8dVhYl6Gj-Ti"
   },
   "source": [
    "## Set for Optimizer"
   ]
  },
  {
   "cell_type": "code",
   "execution_count": null,
   "metadata": {
    "colab": {},
    "colab_type": "code",
    "id": "qVyItHDLMAmW"
   },
   "outputs": [],
   "source": [
    "def precision(y_true, y_pred):\n",
    "    axes = tuple(range(1, len(y_pred.shape)-1))\n",
    "    \n",
    "    true_positives = K.sum(K.round(K.clip(y_true * y_pred, 0, 1)), axes)\n",
    "    predicted_positives = K.sum(K.round(K.clip(y_pred, 0, 1)), axes)\n",
    "    precision = true_positives / (predicted_positives + K.epsilon())\n",
    "    \n",
    "    return K.mean(precision)\n",
    "\n",
    "\n",
    "def recall(y_true, y_pred):\n",
    "    axes = tuple(range(1, len(y_pred.shape)-1))\n",
    "    \n",
    "    true_positives = K.sum(K.round(K.clip(y_true * y_pred, 0, 1)), axes)\n",
    "    possible_positives = K.sum(K.round(K.clip(y_true, 0, 1)), axes)\n",
    "    recall = true_positives / (possible_positives + K.epsilon())\n",
    "    \n",
    "    return K.mean(recall)\n",
    "\n",
    "def dice(y_true, y_pred):\n",
    "    epsilon=1e-6\n",
    "    axes = tuple(range(1, len(y_pred.shape)-1)) \n",
    "    numerator = 2. * K.sum(y_pred * y_true, axes)\n",
    "    denominator = K.sum(K.square(y_pred) + K.square(y_true), axes)\n",
    "    \n",
    "    return K.mean(numerator / (denominator + epsilon))"
   ]
  },
  {
   "cell_type": "code",
   "execution_count": null,
   "metadata": {
    "colab": {},
    "colab_type": "code",
    "id": "9Q5qAOOcjgSz"
   },
   "outputs": [],
   "source": [
    "def soft_dice_loss(y_true, y_pred):\n",
    "    epsilon=1e-6\n",
    "    axes = tuple(range(1, len(y_pred.shape)-1)) \n",
    "    numerator = 2. * K.sum(y_pred * y_true, axes)\n",
    "    denominator = K.sum(K.square(y_pred) + K.square(y_true), axes)\n",
    "    \n",
    "    return 1 - K.mean(numerator / (denominator + epsilon))"
   ]
  },
  {
   "cell_type": "code",
   "execution_count": null,
   "metadata": {
    "colab": {
     "base_uri": "https://localhost:8080/"
    },
    "colab_type": "code",
    "id": "06LveMUrOJdP",
    "outputId": "75e53180-14a1-42a2-8184-03fe0393c7d9"
   },
   "outputs": [],
   "source": [
    "model = modified_unet(input_shape)\n",
    "model.compile(optimizer=tf.keras.optimizers.Adam(lr=learning_rate), #, beta_1=0.9, beta_2=0.999, epsilon=1e-08, decay=0.0),\n",
    "              loss=soft_dice_loss,\n",
    "              metrics=['accuracy', recall, precision])"
   ]
  },
  {
   "cell_type": "markdown",
   "metadata": {
    "colab_type": "text",
    "id": "jELQTYYkkEn2"
   },
   "source": [
    "# Train Dataset 준비"
   ]
  },
  {
   "cell_type": "code",
   "execution_count": null,
   "metadata": {},
   "outputs": [],
   "source": [
    "os.listdir('data/lab_classroom/')[:10]"
   ]
  },
  {
   "cell_type": "code",
   "execution_count": null,
   "metadata": {},
   "outputs": [],
   "source": [
    "image_paths = glob('data/lab_classroom/*.jpg')"
   ]
  },
  {
   "cell_type": "code",
   "execution_count": null,
   "metadata": {},
   "outputs": [],
   "source": [
    "label_paths = [path.replace('.jpg', '_seg.png') for path in image_paths]"
   ]
  },
  {
   "cell_type": "code",
   "execution_count": null,
   "metadata": {},
   "outputs": [],
   "source": [
    "# 파일이 제대로 있는지 확인 하는 작업\n",
    "for path in label_paths:\n",
    "    if not os.path.isfile(path):\n",
    "        print(path, 'not exists')"
   ]
  },
  {
   "cell_type": "markdown",
   "metadata": {},
   "source": [
    "## Train과 Test Set 나누기"
   ]
  },
  {
   "cell_type": "code",
   "execution_count": null,
   "metadata": {},
   "outputs": [],
   "source": [
    "test_rate = 0.5\n",
    "num_images = len(image_paths)\n",
    "train_images = image_paths[:int(num_images * test_rate)]\n",
    "test_images = image_paths[int(num_images * test_rate):]\n",
    "len(train_images), len(test_images)"
   ]
  },
  {
   "cell_type": "markdown",
   "metadata": {},
   "source": [
    "## DataSet Load"
   ]
  },
  {
   "cell_type": "code",
   "execution_count": null,
   "metadata": {},
   "outputs": [],
   "source": [
    "lbl_path = label_paths[0]\n",
    "\n",
    "label = np.array(Image.open(lbl_path))[:,:,0]//10\n",
    "label_onehot = tf.keras.utils.to_categorical(label, num_classes=num_classes)\n",
    "label_onehot.shape"
   ]
  },
  {
   "cell_type": "code",
   "execution_count": null,
   "metadata": {},
   "outputs": [],
   "source": [
    "lbl_path = label_paths[0]\n",
    "\n",
    "def load_data(path):\n",
    "    image = np.array(Image.open(path))\n",
    "    image = cv2.resize(image, (input_shape[1], input_shape[0]))\n",
    "    \n",
    "    lbl_path = path.replace('.jpg', '_seg.png')\n",
    "    label = np.array(Image.open(lbl_path))[:,:,0]//10\n",
    "    # label은 resize할 때 꼭!!! NEARST로 해야한다!!\n",
    "    label = cv2.resize(label, (input_shape[1], input_shape[0]), interpolation=cv2.INTER_NEAREST)\n",
    "    label_onehot = tf.keras.utils.to_categorical(label, num_classes=num_classes)\n",
    "    \n",
    "    return image, label_onehot"
   ]
  },
  {
   "cell_type": "code",
   "execution_count": null,
   "metadata": {
    "colab": {},
    "colab_type": "code",
    "id": "ZcI5abanZyCF"
   },
   "outputs": [],
   "source": [
    "def batch_dataset(image_paths):\n",
    "    batch_image = []\n",
    "    batch_label = []\n",
    "    for image_path in image_paths:\n",
    "        image, label = load_data(image_path)\n",
    "        image = np.expand_dims(image, 0)\n",
    "        label = np.expand_dims(label, 0)\n",
    "        \n",
    "        batch_image.append(image)\n",
    "        batch_label.append(label)\n",
    "        \n",
    "    images = np.concatenate(batch_image, 0) / 255. # rescale\n",
    "    labels = np.concatenate(batch_label, 0)\n",
    "    \n",
    "    return images.astype(np.float32), labels.astype(np.float32)\n",
    "\n",
    "\n",
    "def train_gen(batch_size):\n",
    "    while True:\n",
    "        offset = np.random.randint(0, num_images - batch_size)\n",
    "        yield batch_dataset(train_images[offset:offset+batch_size])"
   ]
  },
  {
   "cell_type": "code",
   "execution_count": null,
   "metadata": {
    "colab": {
     "base_uri": "https://localhost:8080/",
     "height": 269
    },
    "colab_type": "code",
    "id": "wtYqlEDaZyCY",
    "outputId": "cfd36ab8-f21a-416e-ff36-268354080932"
   },
   "outputs": [],
   "source": [
    "history = model.fit_generator(\n",
    "    train_gen(batch_size),\n",
    "    epochs=num_epochs,\n",
    "    steps_per_epoch=100,\n",
    "    validation_data=batch_dataset(test_images)\n",
    ")"
   ]
  },
  {
   "cell_type": "markdown",
   "metadata": {
    "colab_type": "text",
    "id": "a3ghDopcKbXx"
   },
   "source": [
    "# Test DataSet"
   ]
  },
  {
   "cell_type": "markdown",
   "metadata": {
    "colab_type": "text",
    "id": "jJPBHULgWGSP"
   },
   "source": [
    "## Check Testset"
   ]
  },
  {
   "cell_type": "code",
   "execution_count": null,
   "metadata": {
    "colab": {},
    "colab_type": "code",
    "id": "1_t-qGTMpfHV"
   },
   "outputs": [],
   "source": [
    "test_images, test_labels = batch_dataset(test_images[:batch_size])\n",
    "\n",
    "predicts = model.predict(testset)"
   ]
  },
  {
   "cell_type": "code",
   "execution_count": null,
   "metadata": {
    "colab": {},
    "colab_type": "code",
    "id": "meRkxScLprcR"
   },
   "outputs": [],
   "source": [
    "for i in range(batch_size):\n",
    "    plt.figure(figsize=(30, 100))\n",
    "    plt.subplot(1, num_classes, 1)\n",
    "    result = (np.argmax(predicts, -1) * (255 / (num_classes-1))).astype(np.uint8)\n",
    "    plt.imshow(result[i, :, :])\n",
    "    for c in range(1, num_classes+1):\n",
    "        plt.subplot(1, num_classes, c)\n",
    "        plt.imshow(predicts[i, :, :, c-1], 'gray')\n",
    "    plt.show()"
   ]
  },
  {
   "cell_type": "code",
   "execution_count": null,
   "metadata": {
    "colab": {},
    "colab_type": "code",
    "id": "3QDRXBkazvZn"
   },
   "outputs": [],
   "source": [
    "result_num = 4\n",
    "\n",
    "\n",
    "for pred, test, test_label in zip(predicts[:result_num], test_images[:result_num], test_labels[:result_num]):\n",
    "    argmaxed = np.where(np.argmax(pred, -1) > 0, 1, 0)\n",
    "    arg_label = np.where(np.argmax(test_label, -1) > 0, 1, 0)\n",
    "    plt.figure(figsize=(20, 80))\n",
    "    plt.subplot(1, 3, 1)\n",
    "    plt.title('Test Images')\n",
    "    plt.imshow(test[:,:,0], 'gray')\n",
    "    plt.subplot(1, 3, 2)\n",
    "    plt.title('Predictions')\n",
    "    plt.imshow(test[:,:,0], 'gray')\n",
    "    plt.imshow(argmaxed, alpha=0.7)\n",
    "    plt.subplot(1, 3, 3)\n",
    "    plt.title('Ground Truth')\n",
    "    plt.imshow(test[:,:,0], 'gray')\n",
    "    plt.imshow(arg_label, alpha=0.7)\n",
    "    plt.show()"
   ]
  }
 ],
 "metadata": {
  "accelerator": "GPU",
  "colab": {
   "collapsed_sections": [
    "QH_NNyMKVTiV",
    "ChUaoc1Vj0cr",
    "1R4tR_2tj62F",
    "8dVhYl6Gj-Ti",
    "l0Jc3_6Ze3Cw",
    "jJPBHULgWGSP"
   ],
   "name": "UNET - Dice_0.01.ipynb",
   "provenance": [],
   "version": "0.3.2"
  },
  "kernelspec": {
   "display_name": "Python 3",
   "language": "python",
   "name": "python3"
  },
  "language_info": {
   "codemirror_mode": {
    "name": "ipython",
    "version": 3
   },
   "file_extension": ".py",
   "mimetype": "text/x-python",
   "name": "python",
   "nbconvert_exporter": "python",
   "pygments_lexer": "ipython3",
   "version": "3.6.8"
  }
 },
 "nbformat": 4,
 "nbformat_minor": 1
}
