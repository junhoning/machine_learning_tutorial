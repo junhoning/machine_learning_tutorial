{
 "cells": [
  {
   "cell_type": "code",
   "execution_count": 1,
   "metadata": {},
   "outputs": [],
   "source": [
    "import os\n",
    "from glob import glob\n",
    "\n",
    "from tqdm import tqdm\n",
    "\n",
    "import tensorflow as tf"
   ]
  },
  {
   "cell_type": "code",
   "execution_count": 2,
   "metadata": {},
   "outputs": [],
   "source": [
    "import dataset_util\n",
    "\n",
    "def create_tf_example(data, image_string):\n",
    "    # TODO(user): Populate the following variables from your example.\n",
    "    height = data['height'] # Image height\n",
    "    width = data['width'] # Image width\n",
    "    filename = data['filename'] # Filename of the image. Empty if image is not from file\n",
    "    encoded_image_data = image_string # Encoded image bytes\n",
    "    image_format = data['image_format'] # b'jpeg' or b'png'\n",
    "\n",
    "    xmins = data['xmins'] # List of normalized left x coordinates in bounding box (1 per box)\n",
    "    xmaxs = data['xmaxs'] # List of normalized right x coordinates in bounding box\n",
    "             # (1 per box)\n",
    "    ymins = data['ymins'] # List of normalized top y coordinates in bounding box (1 per box)\n",
    "    ymaxs = data['ymaxs'] # List of normalized bottom y coordinates in bounding box\n",
    "             # (1 per box)\n",
    "    classes_text = data['classes_text'] # List of string class name of bounding box (1 per box)\n",
    "    classes = data['classes'] # List of integer class id of bounding box (1 per box)\n",
    "\n",
    "    tf_example = tf.train.Example(features=tf.train.Features(feature={\n",
    "          'image/height': dataset_util.int64_feature(height),\n",
    "          'image/width': dataset_util.int64_feature(width),\n",
    "          'image/filename': dataset_util.bytes_feature(filename),\n",
    "          'image/source_id': dataset_util.bytes_feature(filename),\n",
    "          'image/encoded': dataset_util.bytes_feature(encoded_image_data),\n",
    "          'image/format': dataset_util.bytes_feature(image_format),\n",
    "          'image/object/bbox/xmin': dataset_util.float_list_feature(xmins),\n",
    "          'image/object/bbox/xmax': dataset_util.float_list_feature(xmaxs),\n",
    "          'image/object/bbox/ymin': dataset_util.float_list_feature(ymins),\n",
    "          'image/object/bbox/ymax': dataset_util.float_list_feature(ymaxs),\n",
    "          'image/object/class/text': dataset_util.bytes_list_feature(classes_text),\n",
    "          'image/object/class/label': dataset_util.int64_list_feature(classes),\n",
    "    }))\n",
    "    return tf_example\n"
   ]
  },
  {
   "cell_type": "code",
   "execution_count": 3,
   "metadata": {},
   "outputs": [],
   "source": [
    "img_paths = glob('images/images/n02085620-Chihuahua/*.jpg')       "
   ]
  },
  {
   "cell_type": "code",
   "execution_count": 4,
   "metadata": {},
   "outputs": [
    {
     "data": {
      "text/plain": [
       "'images/images/n02085620-Chihuahua\\\\n02085620_10074.jpg'"
      ]
     },
     "execution_count": 4,
     "metadata": {},
     "output_type": "execute_result"
    }
   ],
   "source": [
    "img_paths[0]"
   ]
  },
  {
   "cell_type": "markdown",
   "metadata": {},
   "source": [
    "## Get Annotation\n",
    "\n",
    "Annotation 얻기. 각 파일에서 annotation을 얻어야함"
   ]
  },
  {
   "cell_type": "code",
   "execution_count": 5,
   "metadata": {},
   "outputs": [],
   "source": [
    "ann_paths = glob(\"annotation/Annotation/*/*\")\n",
    "\n",
    "ann_path = ann_paths[0]"
   ]
  },
  {
   "cell_type": "code",
   "execution_count": 6,
   "metadata": {},
   "outputs": [],
   "source": [
    "with open(ann_path, 'r') as f:\n",
    "    anno = f.read()"
   ]
  },
  {
   "cell_type": "code",
   "execution_count": 7,
   "metadata": {},
   "outputs": [
    {
     "name": "stdout",
     "output_type": "stream",
     "text": [
      "<annotation>\n",
      "\t<folder>02085620</folder>\n",
      "\t<filename>n02085620_10074</filename>\n",
      "\t<source>\n",
      "\t\t<database>ImageNet database</database>\n",
      "\t</source>\n",
      "\t<size>\n",
      "\t\t<width>333</width>\n",
      "\t\t<height>500</height>\n",
      "\t\t<depth>3</depth>\n",
      "\t</size>\n",
      "\t<segment>0</segment>\n",
      "\t<object>\n",
      "\t\t<name>Chihuahua</name>\n",
      "\t\t<pose>Unspecified</pose>\n",
      "\t\t<truncated>0</truncated>\n",
      "\t\t<difficult>0</difficult>\n",
      "\t\t<bndbox>\n",
      "\t\t\t<xmin>25</xmin>\n",
      "\t\t\t<ymin>10</ymin>\n",
      "\t\t\t<xmax>276</xmax>\n",
      "\t\t\t<ymax>498</ymax>\n",
      "\t\t</bndbox>\n",
      "\t</object>\n",
      "</annotation>\n"
     ]
    }
   ],
   "source": [
    "print(anno)"
   ]
  },
  {
   "cell_type": "code",
   "execution_count": 8,
   "metadata": {},
   "outputs": [
    {
     "data": {
      "text/plain": [
       "'n02085620_10074'"
      ]
     },
     "execution_count": 8,
     "metadata": {},
     "output_type": "execute_result"
    }
   ],
   "source": [
    "name = anno.split('filename>')[1][:-2]\n",
    "name"
   ]
  },
  {
   "cell_type": "code",
   "execution_count": 9,
   "metadata": {},
   "outputs": [],
   "source": [
    "def get_annotation(path):\n",
    "    with open(path, 'r') as f:\n",
    "        anno = f.read()\n",
    "\n",
    "    info_names = ['filename', 'width', 'height', 'depth', 'name', 'xmin', 'ymin', 'xmax', 'ymax']\n",
    "\n",
    "    infos = {}\n",
    "    for name in info_names:\n",
    "        infos[name] = anno.split('<%s>'%name, 1)[-1].split('</%s>'%name)[0]\n",
    "\n",
    "    annotation = {}\n",
    "\n",
    "    annotation['width'] = int(infos['width'])\n",
    "    annotation['height'] = int(infos['height'])\n",
    "\n",
    "    annotation['filename'] = infos['filename'].encode('utf-8')  # decode with ->  .decode()\n",
    "#     annotation['encoded_image_data'] = image_string  # 이 부분 확인 해야 함\n",
    "    annotation['image_format'] = b'jpg'\n",
    "\n",
    "    annotation['xmins'] = [float(infos['xmin'])/annotation['height']]\n",
    "    annotation['xmaxs'] = [float(infos['xmax'])/annotation['height']] \n",
    "    annotation['ymins'] = [float(infos['ymin'])/annotation['width']]\n",
    "    annotation['ymaxs'] = [float(infos['ymax'])/annotation['width']]\n",
    "    annotation['classes_text'] = [b'Dog']\n",
    "    annotation['classes'] = [1]\n",
    "\n",
    "    return annotation"
   ]
  },
  {
   "cell_type": "code",
   "execution_count": 11,
   "metadata": {},
   "outputs": [
    {
     "name": "stderr",
     "output_type": "stream",
     "text": [
      "100%|███████████████████████████████████████████████████████████████████████████| 20580/20580 [01:55<00:00, 177.84it/s]\n"
     ]
    }
   ],
   "source": [
    "output_path = 'trainset.tfrecords.gzip'\n",
    "\n",
    "output_path = 'trainset.tfrecords'\n",
    "\n",
    "# options = tf.python_io.TFRecordOptions(tf.python_io.TFRecordCompressionType.GZIP) \n",
    "# writer = tf.python_io.TFRecordWriter(output_path, options=options)\n",
    "writer = tf.python_io.TFRecordWriter(output_path)\n",
    "\n",
    "annotations = {}\n",
    "for path in tqdm(ann_paths):\n",
    "    # Read Image\n",
    "    img_path = path.replace('annotation/Annotation', 'images/images') + '.jpg'\n",
    "    with tf.gfile.Open(img_path, \"rb\") as binfile:\n",
    "        image_string = binfile.read()\n",
    "    \n",
    "    annotation = get_annotation(path)\n",
    "    tf_example = create_tf_example(annotation, image_string)\n",
    "    writer.write(tf_example.SerializeToString())\n",
    "\n",
    "writer.close()"
   ]
  },
  {
   "cell_type": "code",
   "execution_count": null,
   "metadata": {},
   "outputs": [],
   "source": []
  }
 ],
 "metadata": {
  "kernelspec": {
   "display_name": "Python 3",
   "language": "python",
   "name": "python3"
  },
  "language_info": {
   "codemirror_mode": {
    "name": "ipython",
    "version": 3
   },
   "file_extension": ".py",
   "mimetype": "text/x-python",
   "name": "python",
   "nbconvert_exporter": "python",
   "pygments_lexer": "ipython3",
   "version": "3.6.8"
  }
 },
 "nbformat": 4,
 "nbformat_minor": 2
}
